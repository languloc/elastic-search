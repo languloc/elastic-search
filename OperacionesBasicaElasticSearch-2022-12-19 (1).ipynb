{
 "cells": [
  {
   "cell_type": "markdown",
   "id": "1c466ec4-561a-4fa4-a1c9-576d027851a4",
   "metadata": {
    "tags": []
   },
   "source": [
    "# Operaciones básicas con ElasticSearch\n",
    "El objetivo de esta práctica es aprender a utilizar los comandos básicos de ElasticSearch. Indexar, borrar, editar y buscar documentos almacenados en este motor de búsqueda."
   ]
  },
  {
   "cell_type": "markdown",
   "id": "d5654a76-b1f2-401f-abc7-8c00cfcbfc5a",
   "metadata": {
    "tags": []
   },
   "source": [
    "## Introducción"
   ]
  },
  {
   "cell_type": "markdown",
   "id": "e2701e20-5b40-4498-9fb2-bb7b7dd78194",
   "metadata": {},
   "source": [
    "Este primer bloque de código sirve para configurar el Notebook"
   ]
  },
  {
   "cell_type": "code",
   "execution_count": 1,
   "id": "a74775be-f235-4637-a904-12474789ab3d",
   "metadata": {},
   "outputs": [],
   "source": [
    "from IPython.display import JSON"
   ]
  },
  {
   "cell_type": "markdown",
   "id": "7ca8c48a-fe9a-437f-8884-f19700f91956",
   "metadata": {},
   "source": [
    "Ahora vamos a descargar el cliente de ElasticSearch en Python."
   ]
  },
  {
   "cell_type": "code",
   "execution_count": 2,
   "id": "e7722fab-d7e4-4271-9354-80addaf8f2ac",
   "metadata": {},
   "outputs": [
    {
     "name": "stdout",
     "output_type": "stream",
     "text": [
      "Collecting elasticsearch==7.10.1\n",
      "  Downloading elasticsearch-7.10.1-py2.py3-none-any.whl (322 kB)\n",
      "\u001b[2K     \u001b[90m━━━━━━━━━━━━━━━━━━━━━━━━━━━━━━━━━━━━━━━\u001b[0m \u001b[32m322.1/322.1 kB\u001b[0m \u001b[31m1.7 MB/s\u001b[0m eta \u001b[36m0:00:00\u001b[0m00:01\u001b[0m00:01\u001b[0m\n",
      "\u001b[?25hRequirement already satisfied: certifi in /opt/conda/lib/python3.10/site-packages (from elasticsearch==7.10.1) (2022.9.24)\n",
      "Requirement already satisfied: urllib3<2,>=1.21.1 in /opt/conda/lib/python3.10/site-packages (from elasticsearch==7.10.1) (1.26.11)\n",
      "Installing collected packages: elasticsearch\n",
      "Successfully installed elasticsearch-7.10.1\n",
      "Note: you may need to restart the kernel to use updated packages.\n"
     ]
    }
   ],
   "source": [
    "pip install elasticsearch==7.10.1"
   ]
  },
  {
   "cell_type": "markdown",
   "id": "e1d1203d-e9c2-4c1e-9c45-bf0b7ad97555",
   "metadata": {},
   "source": [
    "Por último, creamos la conexion con el servidor de Elastic Search desplegado"
   ]
  },
  {
   "cell_type": "code",
   "execution_count": 3,
   "id": "480cede7-6485-41e5-954e-84e1e39643e6",
   "metadata": {},
   "outputs": [
    {
     "data": {
      "application/json": {
       "cluster_name": "docker-cluster",
       "cluster_uuid": "Esb5J8B7RvymQSB5zJKyJg",
       "name": "elasticsearch-7557c59bd9-9xww7",
       "tagline": "You Know, for Search",
       "version": {
        "build_date": "2021-01-13T00:42:12.435326Z",
        "build_flavor": "oss",
        "build_hash": "747e1cc71def077253878a59143c1f785afa92b9",
        "build_snapshot": false,
        "build_type": "docker",
        "lucene_version": "8.7.0",
        "minimum_index_compatibility_version": "6.0.0-beta1",
        "minimum_wire_compatibility_version": "6.8.0",
        "number": "7.10.2"
       }
      },
      "text/plain": [
       "<IPython.core.display.JSON object>"
      ]
     },
     "execution_count": 3,
     "metadata": {
      "application/json": {
       "expanded": false,
       "root": "root"
      }
     },
     "output_type": "execute_result"
    }
   ],
   "source": [
    "from elasticsearch import Elasticsearch\n",
    "es = Elasticsearch(\n",
    "    ['elasticsearch']\n",
    ")\n",
    "JSON(es.info())"
   ]
  },
  {
   "cell_type": "markdown",
   "id": "b5249bb1-745a-4d75-b143-34436e4d8689",
   "metadata": {
    "tags": []
   },
   "source": [
    "## Ejercicio1. Monitorizando el estado de tu cluster.\n",
    "La idea de este ejercicio es que conozcamos cómo extraer los principales parámetros de un cluster, para conocer su estado."
   ]
  },
  {
   "cell_type": "markdown",
   "id": "e557f931-a517-49bf-adaa-d0d693a2ba95",
   "metadata": {
    "tags": []
   },
   "source": [
    "### Estado del cluster\n",
    "El comando más básico para saber cual es el estado a alto de nivel del cluster."
   ]
  },
  {
   "cell_type": "code",
   "execution_count": 4,
   "id": "9b093d6b-2a51-462f-bf25-f9369610bcee",
   "metadata": {},
   "outputs": [
    {
     "data": {
      "application/json": {
       "_nodes": {
        "failed": 0,
        "successful": 1,
        "total": 1
       },
       "cluster_name": "docker-cluster",
       "cluster_uuid": "Esb5J8B7RvymQSB5zJKyJg",
       "indices": {
        "analysis": {
         "analyzer_types": [],
         "built_in_analyzers": [],
         "built_in_char_filters": [],
         "built_in_filters": [],
         "built_in_tokenizers": [],
         "char_filter_types": [],
         "filter_types": [],
         "tokenizer_types": []
        },
        "completion": {
         "size_in_bytes": 0
        },
        "count": 0,
        "docs": {
         "count": 0,
         "deleted": 0
        },
        "fielddata": {
         "evictions": 0,
         "memory_size_in_bytes": 0
        },
        "mappings": {
         "field_types": []
        },
        "query_cache": {
         "cache_count": 0,
         "cache_size": 0,
         "evictions": 0,
         "hit_count": 0,
         "memory_size_in_bytes": 0,
         "miss_count": 0,
         "total_count": 0
        },
        "segments": {
         "count": 0,
         "doc_values_memory_in_bytes": 0,
         "file_sizes": {},
         "fixed_bit_set_memory_in_bytes": 0,
         "index_writer_memory_in_bytes": 0,
         "max_unsafe_auto_id_timestamp": -9223372036854776000,
         "memory_in_bytes": 0,
         "norms_memory_in_bytes": 0,
         "points_memory_in_bytes": 0,
         "stored_fields_memory_in_bytes": 0,
         "term_vectors_memory_in_bytes": 0,
         "terms_memory_in_bytes": 0,
         "version_map_memory_in_bytes": 0
        },
        "shards": {},
        "store": {
         "reserved_in_bytes": 0,
         "size_in_bytes": 0
        }
       },
       "nodes": {
        "count": {
         "coordinating_only": 0,
         "data": 1,
         "ingest": 1,
         "master": 1,
         "remote_cluster_client": 1,
         "total": 1
        },
        "discovery_types": {
         "single-node": 1
        },
        "fs": {
         "available_in_bytes": 288725651456,
         "free_in_bytes": 288725651456,
         "total_in_bytes": 322109943808
        },
        "ingest": {
         "number_of_pipelines": 0,
         "processor_stats": {}
        },
        "jvm": {
         "max_uptime_in_millis": 304577,
         "mem": {
          "heap_max_in_bytes": 536870912,
          "heap_used_in_bytes": 51699712
         },
         "threads": 18,
         "versions": [
          {
           "bundled_jdk": true,
           "count": 1,
           "using_bundled_jdk": true,
           "version": "15.0.1",
           "vm_name": "OpenJDK 64-Bit Server VM",
           "vm_vendor": "AdoptOpenJDK",
           "vm_version": "15.0.1+9"
          }
         ]
        },
        "network_types": {
         "http_types": {
          "netty4": 1
         },
         "transport_types": {
          "netty4": 1
         }
        },
        "os": {
         "allocated_processors": 1,
         "available_processors": 1,
         "mem": {
          "free_in_bytes": 295653376,
          "free_percent": 28,
          "total_in_bytes": 1073741824,
          "used_in_bytes": 778088448,
          "used_percent": 72
         },
         "names": [
          {
           "count": 1,
           "name": "Linux"
          }
         ],
         "pretty_names": [
          {
           "count": 1,
           "pretty_name": "CentOS Linux 8"
          }
         ]
        },
        "packaging_types": [
         {
          "count": 1,
          "flavor": "oss",
          "type": "docker"
         }
        ],
        "plugins": [],
        "process": {
         "cpu": {
          "percent": 0
         },
         "open_file_descriptors": {
          "avg": 116,
          "max": 116,
          "min": 116
         }
        },
        "versions": [
         "7.10.2"
        ]
       },
       "status": "green",
       "timestamp": 1706623872755
      },
      "text/plain": [
       "<IPython.core.display.JSON object>"
      ]
     },
     "execution_count": 4,
     "metadata": {
      "application/json": {
       "expanded": false,
       "root": "root"
      }
     },
     "output_type": "execute_result"
    }
   ],
   "source": [
    "JSON(es.cluster.stats())"
   ]
  },
  {
   "cell_type": "markdown",
   "id": "0f2c7980-ac6b-4774-a2f7-0aefdf9c10b7",
   "metadata": {},
   "source": [
    "Si queremos una información más detallada podemos lanzar el comando `state`"
   ]
  },
  {
   "cell_type": "code",
   "execution_count": 5,
   "id": "c49eb8e9-a215-4e8e-ab3c-41e8bec0ce39",
   "metadata": {},
   "outputs": [
    {
     "data": {
      "application/json": {
       "blocks": {},
       "cluster_name": "docker-cluster",
       "cluster_uuid": "Esb5J8B7RvymQSB5zJKyJg",
       "master_node": "3bBtxMCvQeaEfwk-Q5GQig",
       "metadata": {
        "cluster_coordination": {
         "last_accepted_config": [
          "3bBtxMCvQeaEfwk-Q5GQig"
         ],
         "last_committed_config": [
          "3bBtxMCvQeaEfwk-Q5GQig"
         ],
         "term": 1,
         "voting_config_exclusions": []
        },
        "cluster_uuid": "Esb5J8B7RvymQSB5zJKyJg",
        "cluster_uuid_committed": true,
        "index-graveyard": {
         "tombstones": []
        },
        "indices": {},
        "templates": {}
       },
       "nodes": {
        "3bBtxMCvQeaEfwk-Q5GQig": {
         "attributes": {},
         "ephemeral_id": "eb3ZMVp7Ryu0d_Oaarmt9Q",
         "name": "elasticsearch-7557c59bd9-9xww7",
         "transport_address": "192.168.171.78:9300"
        }
       },
       "routing_nodes": {
        "nodes": {
         "3bBtxMCvQeaEfwk-Q5GQig": []
        },
        "unassigned": []
       },
       "routing_table": {
        "indices": {}
       },
       "state_uuid": "DSlzx_CKRmGrHa8Y7qxm4g",
       "version": 2
      },
      "text/plain": [
       "<IPython.core.display.JSON object>"
      ]
     },
     "execution_count": 5,
     "metadata": {
      "application/json": {
       "expanded": false,
       "root": "root"
      }
     },
     "output_type": "execute_result"
    }
   ],
   "source": [
    "JSON(es.cluster.state())"
   ]
  },
  {
   "cell_type": "markdown",
   "id": "f7fb0942-932f-4b50-826e-361eee4e7220",
   "metadata": {},
   "source": [
    "Podemos filtra algunos campos si queremos información sobre algo específico."
   ]
  },
  {
   "cell_type": "code",
   "execution_count": 6,
   "id": "7275ea42-5381-451e-a25c-4bb128a99c6c",
   "metadata": {},
   "outputs": [
    {
     "data": {
      "application/json": {
       "cluster_name": "docker-cluster",
       "cluster_uuid": "Esb5J8B7RvymQSB5zJKyJg",
       "metadata": {
        "cluster_coordination": {
         "last_accepted_config": [
          "3bBtxMCvQeaEfwk-Q5GQig"
         ],
         "last_committed_config": [
          "3bBtxMCvQeaEfwk-Q5GQig"
         ],
         "term": 1,
         "voting_config_exclusions": []
        },
        "cluster_uuid": "Esb5J8B7RvymQSB5zJKyJg",
        "cluster_uuid_committed": true,
        "index-graveyard": {
         "tombstones": []
        },
        "indices": {},
        "templates": {}
       },
       "routing_table": {
        "indices": {}
       }
      },
      "text/plain": [
       "<IPython.core.display.JSON object>"
      ]
     },
     "execution_count": 6,
     "metadata": {
      "application/json": {
       "expanded": false,
       "root": "root"
      }
     },
     "output_type": "execute_result"
    }
   ],
   "source": [
    "JSON(es.cluster.state(metric=[\"metadata\",\"routing_table\"]))"
   ]
  },
  {
   "cell_type": "markdown",
   "id": "01e10fa7-00a6-43c7-a5a0-824b7fcb9146",
   "metadata": {
    "tags": []
   },
   "source": [
    "### Health check\n",
    "Para poder revisar el estado del cluster, debemos usar el método `health`. Esta función nos devolverá información de cómo se encuentra el cluster. El método devuelve un codigo de color:\n",
    "- **Verde**. El cluster funciona correctamente y todas los shards están disponibles.\n",
    "- **Amarillo**. El cluster permite indexar y buscar información porque todos los primary shard estan desplegados.\n",
    "- **Rojo**. El cluster esta inestable y algunos shards no funcionan correctamente."
   ]
  },
  {
   "cell_type": "code",
   "execution_count": 7,
   "id": "e8e4eef2-46e8-4d67-93c0-f5f5b304b41a",
   "metadata": {},
   "outputs": [
    {
     "data": {
      "application/json": {
       "active_primary_shards": 0,
       "active_shards": 0,
       "active_shards_percent_as_number": 100,
       "cluster_name": "docker-cluster",
       "delayed_unassigned_shards": 0,
       "initializing_shards": 0,
       "number_of_data_nodes": 1,
       "number_of_in_flight_fetch": 0,
       "number_of_nodes": 1,
       "number_of_pending_tasks": 0,
       "relocating_shards": 0,
       "status": "green",
       "task_max_waiting_in_queue_millis": 0,
       "timed_out": false,
       "unassigned_shards": 0
      },
      "text/plain": [
       "<IPython.core.display.JSON object>"
      ]
     },
     "execution_count": 7,
     "metadata": {
      "application/json": {
       "expanded": false,
       "root": "root"
      }
     },
     "output_type": "execute_result"
    }
   ],
   "source": [
    "JSON(es.cluster.health())"
   ]
  },
  {
   "cell_type": "markdown",
   "id": "6bd56ee4-64e9-494c-b840-d7698b178b9b",
   "metadata": {},
   "source": [
    "El comando permite lanzar espera activas para determinados estados."
   ]
  },
  {
   "cell_type": "code",
   "execution_count": 8,
   "id": "804bd3e9-447c-4bb5-807f-8189fc2927ad",
   "metadata": {},
   "outputs": [
    {
     "data": {
      "application/json": {
       "active_primary_shards": 0,
       "active_shards": 0,
       "active_shards_percent_as_number": 100,
       "cluster_name": "docker-cluster",
       "delayed_unassigned_shards": 0,
       "initializing_shards": 0,
       "number_of_data_nodes": 1,
       "number_of_in_flight_fetch": 0,
       "number_of_nodes": 1,
       "number_of_pending_tasks": 0,
       "relocating_shards": 0,
       "status": "green",
       "task_max_waiting_in_queue_millis": 0,
       "timed_out": false,
       "unassigned_shards": 0
      },
      "text/plain": [
       "<IPython.core.display.JSON object>"
      ]
     },
     "execution_count": 8,
     "metadata": {
      "application/json": {
       "expanded": false,
       "root": "root"
      }
     },
     "output_type": "execute_result"
    }
   ],
   "source": [
    "JSON(es.cluster.health(wait_for_status=\"yellow\",timeout=\"5s\"))"
   ]
  },
  {
   "cell_type": "markdown",
   "id": "13dc1749-efe2-4bb5-a32f-15f772524030",
   "metadata": {
    "tags": []
   },
   "source": [
    "### Settings\n",
    "Otro comando que puede ayudarte a entender como se encuentra tu servidor es el comando `settings`, el cual devuelve la configuración del servidor elastic search al que estamos conectados."
   ]
  },
  {
   "cell_type": "code",
   "execution_count": 101,
   "id": "d8eb3dfe-eefb-413d-823a-84a797f927e6",
   "metadata": {},
   "outputs": [
    {
     "data": {
      "application/json": {
       "defaults": {
        "action": {
         "auto_create_index": "true",
         "destructive_requires_name": "false",
         "search": {
          "shard_count": {
           "limit": "9223372036854775807"
          }
         }
        },
        "bootstrap": {
         "ctrlhandler": "true",
         "memory_lock": "true",
         "system_call_filter": "true"
        },
        "cache": {
         "recycler": {
          "page": {
           "limit": {
            "heap": "10%"
           },
           "type": "CONCURRENT",
           "weight": {
            "bytes": "1.0",
            "ints": "1.0",
            "longs": "1.0",
            "objects": "0.1"
           }
          }
         }
        },
        "client": {
         "transport": {
          "ignore_cluster_name": "false",
          "nodes_sampler_interval": "5s",
          "ping_timeout": "5s",
          "sniff": "false"
         },
         "type": "node"
        },
        "cluster": {
         "auto_shrink_voting_configuration": "true",
         "blocks": {
          "read_only": "false",
          "read_only_allow_delete": "false"
         },
         "election": {
          "back_off_time": "100ms",
          "duration": "500ms",
          "initial_timeout": "100ms",
          "max_timeout": "10s",
          "strategy": "default"
         },
         "fault_detection": {
          "follower_check": {
           "interval": "1000ms",
           "retry_count": "3",
           "timeout": "10000ms"
          },
          "leader_check": {
           "interval": "1000ms",
           "retry_count": "3",
           "timeout": "10000ms"
          }
         },
         "follower_lag": {
          "timeout": "90000ms"
         },
         "indices": {
          "close": {
           "enable": "true"
          },
          "tombstones": {
           "size": "500"
          }
         },
         "info": {
          "update": {
           "interval": "30s",
           "timeout": "15s"
          }
         },
         "initial_master_nodes": [],
         "join": {
          "timeout": "60000ms"
         },
         "max_shards_per_node": "1000",
         "max_voting_config_exclusions": "10",
         "name": "docker-cluster",
         "no_master_block": "write",
         "nodes": {
          "reconnect_interval": "10s"
         },
         "persistent_tasks": {
          "allocation": {
           "enable": "all",
           "recheck_interval": "30s"
          }
         },
         "publish": {
          "info_timeout": "10000ms",
          "timeout": "30000ms"
         },
         "remote": {
          "connect": "true",
          "connections_per_cluster": "3",
          "initial_connect_timeout": "30s",
          "node": {
           "attr": ""
          }
         },
         "routing": {
          "allocation": {
           "allow_rebalance": "indices_all_active",
           "awareness": {
            "attributes": []
           },
           "balance": {
            "index": "0.55",
            "shard": "0.45",
            "threshold": "1.0"
           },
           "cluster_concurrent_rebalance": "2",
           "disk": {
            "include_relocations": "true",
            "reroute_interval": "60s",
            "threshold_enabled": "true",
            "watermark": {
             "enable_for_single_data_node": "false",
             "flood_stage": "95%",
             "high": "90%",
             "low": "85%"
            }
           },
           "enable": "all",
           "node_concurrent_incoming_recoveries": "2",
           "node_concurrent_outgoing_recoveries": "2",
           "node_concurrent_recoveries": "2",
           "node_initial_primaries_recoveries": "4",
           "same_shard": {
            "host": "false"
           },
           "shard_state": {
            "reroute": {
             "priority": "NORMAL"
            }
           },
           "total_shards_per_node": "-1",
           "type": "balanced"
          },
          "rebalance": {
           "enable": "all"
          },
          "use_adaptive_replica_selection": "true"
         },
         "service": {
          "slow_master_task_logging_threshold": "10s",
          "slow_task_logging_threshold": "30s"
         },
         "snapshot": {
          "info": {
           "max_concurrent_fetches": "5"
          }
         }
        },
        "discovery": {
         "cluster_formation_warning_timeout": "10000ms",
         "find_peers_interval": "1000ms",
         "initial_state_timeout": "30s",
         "probe": {
          "connect_timeout": "3000ms",
          "handshake_timeout": "1000ms"
         },
         "request_peers_timeout": "3000ms",
         "seed_hosts": [],
         "seed_providers": [],
         "seed_resolver": {
          "max_concurrent_resolvers": "10",
          "timeout": "5s"
         },
         "type": "single-node",
         "unconfigured_bootstrap_timeout": "3s",
         "zen": {
          "bwc_ping_timeout": "3s",
          "commit_timeout": "30s",
          "fd": {
           "connect_on_network_disconnect": "false",
           "ping_interval": "1s",
           "ping_retries": "3",
           "ping_timeout": "30s",
           "register_connection_listener": "true"
          },
          "hosts_provider": [],
          "join_retry_attempts": "3",
          "join_retry_delay": "100ms",
          "join_timeout": "60000ms",
          "master_election": {
           "ignore_non_master_pings": "false",
           "wait_for_joins_timeout": "30000ms"
          },
          "max_pings_from_another_master": "3",
          "minimum_master_nodes": "-1",
          "no_master_block": "write",
          "ping": {
           "unicast": {
            "concurrent_connects": "10",
            "hosts": [],
            "hosts.resolve_timeout": "5s"
           }
          },
          "ping_timeout": "3s",
          "publish": {
           "max_pending_cluster_states": "25"
          },
          "publish_diff": {
           "enable": "true"
          },
          "publish_timeout": "30s",
          "send_leave_request": "true",
          "unsafe_rolling_upgrades_enabled": "true"
         }
        },
        "gateway": {
         "auto_import_dangling_indices": "false",
         "expected_data_nodes": "-1",
         "expected_master_nodes": "-1",
         "expected_nodes": "-1",
         "recover_after_data_nodes": "-1",
         "recover_after_master_nodes": "0",
         "recover_after_nodes": "-1",
         "recover_after_time": "0ms",
         "slow_write_logging_threshold": "10s",
         "write_dangling_indices_info": "true"
        },
        "http": {
         "bind_host": [],
         "compression": "true",
         "compression_level": "3",
         "content_type": {
          "required": "true"
         },
         "cors": {
          "allow-credentials": "false",
          "allow-headers": "X-Requested-With,Content-Type,Content-Length",
          "allow-methods": "OPTIONS,HEAD,GET,POST,PUT,DELETE",
          "allow-origin": "",
          "enabled": "false",
          "max-age": "1728000"
         },
         "detailed_errors": {
          "enabled": "true"
         },
         "host": [],
         "max_chunk_size": "8kb",
         "max_content_length": "100mb",
         "max_header_size": "8kb",
         "max_initial_line_length": "4kb",
         "max_warning_header_count": "-1",
         "max_warning_header_size": "-1b",
         "netty": {
          "max_composite_buffer_components": "69905",
          "receive_predictor_size": "64kb",
          "worker_count": "0"
         },
         "pipelining": {
          "max_events": "10000"
         },
         "port": "9200-9300",
         "publish_host": [],
         "publish_port": "-1",
         "read_timeout": "0ms",
         "reset_cookies": "false",
         "tcp": {
          "keep_alive": "true",
          "keep_count": "-1",
          "keep_idle": "-1",
          "keep_interval": "-1",
          "no_delay": "true",
          "receive_buffer_size": "-1b",
          "reuse_address": "true",
          "send_buffer_size": "-1b"
         },
         "tcp_no_delay": "true",
         "tracer": {
          "exclude": [],
          "include": []
         },
         "type": "",
         "type.default": "netty4"
        },
        "index": {
         "codec": "default",
         "recovery": {
          "type": ""
         },
         "store": {
          "fs": {
           "fs_lock": "native"
          },
          "preload": [],
          "type": ""
         }
        },
        "indexing_pressure": {
         "memory": {
          "limit": "10%"
         }
        },
        "indices": {
         "analysis": {
          "hunspell": {
           "dictionary": {
            "ignore_case": "false",
            "lazy": "false"
           }
          }
         },
         "breaker": {
          "accounting": {
           "limit": "100%",
           "overhead": "1.0"
          },
          "fielddata": {
           "limit": "40%",
           "overhead": "1.03",
           "type": "memory"
          },
          "request": {
           "limit": "60%",
           "overhead": "1.0",
           "type": "memory"
          },
          "total": {
           "limit": "95%",
           "use_real_memory": "true"
          },
          "type": "hierarchy"
         },
         "cache": {
          "cleanup_interval": "1m"
         },
         "fielddata": {
          "cache": {
           "size": "-1b"
          }
         },
         "id_field_data": {
          "enabled": "true"
         },
         "mapping": {
          "dynamic_timeout": "30s",
          "max_in_flight_updates": "10"
         },
         "memory": {
          "index_buffer_size": "10%",
          "interval": "5s",
          "max_index_buffer_size": "-1",
          "min_index_buffer_size": "48mb",
          "shard_inactive_time": "5m"
         },
         "queries": {
          "cache": {
           "all_segments": "false",
           "count": "10000",
           "size": "10%"
          }
         },
         "query": {
          "bool": {
           "max_clause_count": "1024"
          },
          "query_string": {
           "allowLeadingWildcard": "true",
           "analyze_wildcard": "false"
          }
         },
         "recovery": {
          "internal_action_long_timeout": "1800000ms",
          "internal_action_timeout": "15m",
          "max_bytes_per_sec": "40mb",
          "max_concurrent_file_chunks": "2",
          "max_concurrent_operations": "1",
          "recovery_activity_timeout": "1800000ms",
          "retry_delay_network": "5s",
          "retry_delay_state_sync": "500ms"
         },
         "replication": {
          "initial_retry_backoff_bound": "50ms",
          "retry_timeout": "60s"
         },
         "requests": {
          "cache": {
           "expire": "0ms",
           "size": "1%"
          }
         },
         "store": {
          "delete": {
           "shard": {
            "timeout": "30s"
           }
          }
         }
        },
        "ingest": {
         "geoip": {
          "cache_size": "1000"
         },
         "grok": {
          "watchdog": {
           "interval": "1s",
           "max_execution_time": "1s"
          }
         },
         "user_agent": {
          "cache_size": "1000"
         }
        },
        "kibana": {
         "system_indices": [
          ".kibana",
          ".kibana_*",
          ".reporting-*",
          ".apm-agent-configuration",
          ".apm-custom-link"
         ]
        },
        "logger": {
         "level": "INFO"
        },
        "monitor": {
         "fs": {
          "health": {
           "enabled": "true",
           "refresh_interval": "120s",
           "slow_path_logging_threshold": "5s"
          },
          "refresh_interval": "1s"
         },
         "jvm": {
          "gc": {
           "enabled": "true",
           "overhead": {
            "debug": "10",
            "info": "25",
            "warn": "50"
           },
           "refresh_interval": "1s"
          },
          "refresh_interval": "1s"
         },
         "os": {
          "refresh_interval": "1s"
         },
         "process": {
          "refresh_interval": "1s"
         }
        },
        "network": {
         "bind_host": [
          "0.0.0.0"
         ],
         "breaker": {
          "inflight_requests": {
           "limit": "100%",
           "overhead": "2.0"
          }
         },
         "host": [
          "0.0.0.0"
         ],
         "publish_host": [
          "0.0.0.0"
         ],
         "server": "true",
         "tcp": {
          "connect_timeout": "30s",
          "keep_alive": "true",
          "keep_count": "-1",
          "keep_idle": "-1",
          "keep_interval": "-1",
          "no_delay": "true",
          "receive_buffer_size": "-1b",
          "reuse_address": "true",
          "send_buffer_size": "-1b"
         }
        },
        "node": {
         "data": "true",
         "enable_lucene_segment_infos_trace": "false",
         "id": {
          "seed": "0"
         },
         "ingest": "true",
         "local_storage": "true",
         "master": "true",
         "max_local_storage_nodes": "1",
         "name": "elastic-77d49557cc-xttl2",
         "pidfile": "",
         "portsfile": "false",
         "processors": "1",
         "remote_cluster_client": "true",
         "roles": [
          "master",
          "remote_cluster_client",
          "data",
          "ingest"
         ],
         "store": {
          "allow_mmap": "true"
         }
        },
        "path": {
         "data": [],
         "home": "/usr/share/elasticsearch",
         "logs": "/usr/share/elasticsearch/logs",
         "repo": [],
         "shared_data": ""
        },
        "pidfile": "",
        "plugin": {
         "mandatory": []
        },
        "processors": "1",
        "reindex": {
         "remote": {
          "whitelist": []
         }
        },
        "repositories": {
         "fs": {
          "chunk_size": "9223372036854775807b",
          "compress": "false",
          "location": ""
         },
         "url": {
          "allowed_urls": [],
          "supported_protocols": [
           "http",
           "https",
           "ftp",
           "file",
           "jar"
          ],
          "url": "http:"
         }
        },
        "resource": {
         "reload": {
          "enabled": "true",
          "interval": {
           "high": "5s",
           "low": "60s",
           "medium": "30s"
          }
         }
        },
        "rest": {
         "action": {
          "multi": {
           "allow_explicit_index": "true"
          }
         }
        },
        "script": {
         "allowed_contexts": [],
         "allowed_types": [],
         "cache": {
          "expire": "0ms",
          "max_size": "100"
         },
         "disable_max_compilations_rate": "false",
         "max_compilations_rate": "use-context",
         "max_size_in_bytes": "65535",
         "painless": {
          "regex": {
           "enabled": "limited",
           "limit-factor": "6"
          }
         }
        },
        "search": {
         "allow_expensive_queries": "true",
         "default_allow_partial_results": "true",
         "default_keep_alive": "5m",
         "default_search_timeout": "-1",
         "highlight": {
          "term_vector_multi_value": "true"
         },
         "keep_alive_interval": "1m",
         "low_level_cancellation": "true",
         "max_buckets": "65535",
         "max_keep_alive": "24h",
         "max_open_scroll_context": "500",
         "remote": {
          "connect": "true",
          "connections_per_cluster": "3",
          "initial_connect_timeout": "30s",
          "node": {
           "attr": ""
          }
         }
        },
        "security": {
         "manager": {
          "filter_bad_defaults": "true"
         }
        },
        "snapshot": {
         "max_concurrent_operations": "1000"
        },
        "thread_pool": {
         "analyze": {
          "queue_size": "16",
          "size": "1"
         },
         "estimated_time_interval": "200ms",
         "fetch_shard_started": {
          "core": "1",
          "keep_alive": "5m",
          "max": "2"
         },
         "fetch_shard_store": {
          "core": "1",
          "keep_alive": "5m",
          "max": "2"
         },
         "flush": {
          "core": "1",
          "keep_alive": "5m",
          "max": "1"
         },
         "force_merge": {
          "queue_size": "-1",
          "size": "1"
         },
         "generic": {
          "core": "4",
          "keep_alive": "30s",
          "max": "128"
         },
         "get": {
          "queue_size": "1000",
          "size": "1"
         },
         "listener": {
          "queue_size": "-1",
          "size": "1"
         },
         "management": {
          "core": "1",
          "keep_alive": "5m",
          "max": "5"
         },
         "refresh": {
          "core": "1",
          "keep_alive": "5m",
          "max": "1"
         },
         "search": {
          "auto_queue_frame_size": "2000",
          "max_queue_size": "1000",
          "min_queue_size": "1000",
          "queue_size": "1000",
          "size": "2",
          "target_response_time": "1s"
         },
         "search_throttled": {
          "auto_queue_frame_size": "200",
          "max_queue_size": "100",
          "min_queue_size": "100",
          "queue_size": "100",
          "size": "1",
          "target_response_time": "1s"
         },
         "snapshot": {
          "core": "1",
          "keep_alive": "5m",
          "max": "1"
         },
         "system_read": {
          "queue_size": "2000",
          "size": "1"
         },
         "system_write": {
          "queue_size": "1000",
          "size": "1"
         },
         "warmer": {
          "core": "1",
          "keep_alive": "5m",
          "max": "1"
         },
         "write": {
          "queue_size": "10000",
          "size": "1"
         }
        },
        "transport": {
         "bind_host": [],
         "compress": "false",
         "connect_timeout": "30s",
         "connections_per_node": {
          "bulk": "3",
          "ping": "1",
          "recovery": "2",
          "reg": "6",
          "state": "1"
         },
         "host": [],
         "netty": {
          "boss_count": "1",
          "receive_predictor_max": "64kb",
          "receive_predictor_min": "64kb",
          "receive_predictor_size": "64kb",
          "worker_count": "1"
         },
         "ping_schedule": "-1",
         "port": "9300-9400",
         "publish_host": [],
         "publish_port": "-1",
         "slow_operation_logging_threshold": "5s",
         "tcp": {
          "compress": "false",
          "connect_timeout": "30s",
          "keep_alive": "true",
          "keep_count": "-1",
          "keep_idle": "-1",
          "keep_interval": "-1",
          "no_delay": "true",
          "port": "9300-9400",
          "receive_buffer_size": "-1b",
          "reuse_address": "true",
          "send_buffer_size": "-1b"
         },
         "tcp_no_delay": "true",
         "tracer": {
          "exclude": [
           "internal:discovery/zen/fd*",
           "internal:coordination/fault_detection/*",
           "cluster:monitor/nodes/liveness"
          ],
          "include": []
         },
         "type": "",
         "type.default": "netty4"
        }
       },
       "persistent": {},
       "transient": {}
      },
      "text/plain": [
       "<IPython.core.display.JSON object>"
      ]
     },
     "execution_count": 101,
     "metadata": {
      "application/json": {
       "expanded": false,
       "root": "root"
      }
     },
     "output_type": "execute_result"
    }
   ],
   "source": [
    "JSON(es.cluster.get_settings(include_defaults=\"true\"))"
   ]
  },
  {
   "cell_type": "markdown",
   "id": "52f9283a-9bf3-413e-bb8f-2184f8d3b0b9",
   "metadata": {
    "tags": []
   },
   "source": [
    "## Ejercicio 2. Creacion de indices\n",
    "En esta sección vamos a explicar la funciones básicas de un índice. Como crearlo y como indicar cual es su esquema por defecto.\n",
    "\n",
    "El comando `create`crea un indice con configración básica."
   ]
  },
  {
   "cell_type": "code",
   "execution_count": 17,
   "id": "2e77d126-3010-4f64-a6ba-fdcc364d552f",
   "metadata": {},
   "outputs": [
    {
     "data": {
      "application/json": {
       "acknowledged": true,
       "index": "prueba",
       "shards_acknowledged": true
      },
      "text/plain": [
       "<IPython.core.display.JSON object>"
      ]
     },
     "execution_count": 17,
     "metadata": {
      "application/json": {
       "expanded": false,
       "root": "root"
      }
     },
     "output_type": "execute_result"
    }
   ],
   "source": [
    "JSON(es.indices.create(index=\"prueba\"))"
   ]
  },
  {
   "cell_type": "markdown",
   "id": "7d35aef8-8240-4630-be21-bcaae3149025",
   "metadata": {},
   "source": [
    "Para ver la configuración de este índice podemos llamar al método `get`."
   ]
  },
  {
   "cell_type": "code",
   "execution_count": 18,
   "id": "49c63fb0-40bc-40da-b4ee-818c946e7556",
   "metadata": {},
   "outputs": [
    {
     "data": {
      "application/json": {
       "prueba": {
        "aliases": {},
        "mappings": {},
        "settings": {
         "index": {
          "creation_date": "1671468234216",
          "number_of_replicas": "1",
          "number_of_shards": "1",
          "provided_name": "prueba",
          "uuid": "zYA_R6hmTum2hmuWEY5y9Q",
          "version": {
           "created": "7100299"
          }
         }
        }
       }
      },
      "text/plain": [
       "<IPython.core.display.JSON object>"
      ]
     },
     "execution_count": 18,
     "metadata": {
      "application/json": {
       "expanded": false,
       "root": "root"
      }
     },
     "output_type": "execute_result"
    }
   ],
   "source": [
    "JSON(es.indices.get(index=\"prueba\"))"
   ]
  },
  {
   "cell_type": "markdown",
   "id": "0c907dca-c4d7-4408-93cd-cae931524a22",
   "metadata": {},
   "source": [
    "El comando create falla si el indice ya existe por tanto si queremos ejecutar el create de una forma segura debemos utilizar el comandos `exists`."
   ]
  },
  {
   "cell_type": "code",
   "execution_count": 104,
   "id": "32702631-70e0-4b0b-be17-eacf046dd4cc",
   "metadata": {},
   "outputs": [
    {
     "name": "stdout",
     "output_type": "stream",
     "text": [
      "El indice ya existe\n"
     ]
    }
   ],
   "source": [
    "if es.indices.exists(index=\"prueba\"):\n",
    "    print(\"El indice ya existe\")\n",
    "else:\n",
    "    JSON(es.indices.create(index=\"prueba\"))\n",
    "    "
   ]
  },
  {
   "cell_type": "markdown",
   "id": "22c16b5b-4307-4566-af01-384b413eba89",
   "metadata": {},
   "source": [
    "Para borrar un indice utilizamos el comando `delete`."
   ]
  },
  {
   "cell_type": "code",
   "execution_count": 105,
   "id": "ba3eb5c1-d5f1-46f9-9d8c-949cb24d583b",
   "metadata": {},
   "outputs": [
    {
     "data": {
      "application/json": {
       "acknowledged": true
      },
      "text/plain": [
       "<IPython.core.display.JSON object>"
      ]
     },
     "execution_count": 105,
     "metadata": {
      "application/json": {
       "expanded": false,
       "root": "root"
      }
     },
     "output_type": "execute_result"
    }
   ],
   "source": [
    "JSON(es.indices.delete(index=\"prueba\"))"
   ]
  },
  {
   "cell_type": "markdown",
   "id": "ade6df3f-6792-4b86-8b57-5e9d68517d4a",
   "metadata": {
    "tags": []
   },
   "source": [
    "Si queremos cambiar el numero de shards o replicas debemos utilizar el parametro `body` e introducir una estructura de `settings`."
   ]
  },
  {
   "cell_type": "code",
   "execution_count": 106,
   "id": "0f1429c1-6463-4248-b5ee-8edfd247f886",
   "metadata": {},
   "outputs": [
    {
     "data": {
      "application/json": {
       "acknowledged": true,
       "index": "prueba",
       "shards_acknowledged": true
      },
      "text/plain": [
       "<IPython.core.display.JSON object>"
      ]
     },
     "execution_count": 106,
     "metadata": {
      "application/json": {
       "expanded": false,
       "root": "root"
      }
     },
     "output_type": "execute_result"
    }
   ],
   "source": [
    "request_body= {\n",
    "    \"settings\": {\n",
    "        \"number_of_shards\":1,\n",
    "        \"number_of_replicas\":0\n",
    "    }\n",
    "}\n",
    "JSON(es.indices.create(index=\"prueba\", body=request_body))"
   ]
  },
  {
   "cell_type": "markdown",
   "id": "2365bc17-d3ab-44aa-a653-0896ac930813",
   "metadata": {},
   "source": [
    "Para comprobar los cambios ejecutamos el comando `get`."
   ]
  },
  {
   "cell_type": "code",
   "execution_count": 107,
   "id": "727db726-449a-4851-80f3-da9c9ccd94a1",
   "metadata": {},
   "outputs": [
    {
     "data": {
      "application/json": {
       "prueba": {
        "aliases": {},
        "mappings": {},
        "settings": {
         "index": {
          "creation_date": "1670972417266",
          "number_of_replicas": "0",
          "number_of_shards": "1",
          "provided_name": "prueba",
          "uuid": "q4uAFivlQvCd_EcWWnv2Ww",
          "version": {
           "created": "7100299"
          }
         }
        }
       }
      },
      "text/plain": [
       "<IPython.core.display.JSON object>"
      ]
     },
     "execution_count": 107,
     "metadata": {
      "application/json": {
       "expanded": false,
       "root": "root"
      }
     },
     "output_type": "execute_result"
    }
   ],
   "source": [
    "JSON(es.indices.get(index=\"prueba\"))"
   ]
  },
  {
   "cell_type": "markdown",
   "id": "d8d1334a-8974-4488-bc1b-e267f22c7900",
   "metadata": {},
   "source": [
    "Cuando creamos un indice podemos indicar el esquema que vamos a usar. Por defecto elastic search infiere el esquema de los datos que vamos introduciendo, pero esta inferencia no es suficiente si queremos controlara la búsqueda. Para eso tenemos que modificar el `body` durante la creación añadiendo un elemento `mapping` o podemos actualizar el indice utilizando el método `put_mapping`y ñadiendo en parametro `body` la definición."
   ]
  },
  {
   "cell_type": "code",
   "execution_count": 108,
   "id": "6c82ace1-b5e1-4593-8fc1-5dec848d9529",
   "metadata": {},
   "outputs": [
    {
     "data": {
      "application/json": {
       "acknowledged": true
      },
      "text/plain": [
       "<IPython.core.display.JSON object>"
      ]
     },
     "execution_count": 108,
     "metadata": {
      "application/json": {
       "expanded": false,
       "root": "root"
      }
     },
     "output_type": "execute_result"
    }
   ],
   "source": [
    "request_body= {\n",
    "    \"properties\": {\n",
    "        \"email\": {\n",
    "            \"type\":\"keyword\"\n",
    "        }\n",
    "    }\n",
    "}\n",
    "JSON(es.indices.put_mapping(index=\"prueba\", body=request_body))"
   ]
  },
  {
   "cell_type": "markdown",
   "id": "7bcc7707-6cca-473a-9b58-c1b861876593",
   "metadata": {},
   "source": [
    "Comprobamos que el mapping ha sido actualizado con el comando `get_mapping`."
   ]
  },
  {
   "cell_type": "code",
   "execution_count": 109,
   "id": "469e7060-3776-4fb1-becb-664aa62242b6",
   "metadata": {},
   "outputs": [
    {
     "data": {
      "application/json": {
       "prueba": {
        "mappings": {
         "properties": {
          "email": {
           "type": "keyword"
          }
         }
        }
       }
      },
      "text/plain": [
       "<IPython.core.display.JSON object>"
      ]
     },
     "execution_count": 109,
     "metadata": {
      "application/json": {
       "expanded": false,
       "root": "root"
      }
     },
     "output_type": "execute_result"
    }
   ],
   "source": [
    "JSON(es.indices.get_mapping(index=\"prueba\"))"
   ]
  },
  {
   "cell_type": "markdown",
   "id": "4c51ed07-6961-45d9-a57c-eb2c54bf394c",
   "metadata": {},
   "source": [
    "### Práctica\n",
    "En esta sección vamos a repasar lo comando que hemos esta ejecutando en este ejercicio. Para ello vamos a desarrollar piezas de codigo que cumplan las indicaciones.\n",
    "\n",
    "**Escribe el código que permita eliminar el indice prueba. El comando debe poderse ejecutar varias veces sin fallar.**"
   ]
  },
  {
   "cell_type": "code",
   "execution_count": 21,
   "id": "ece1c357-982a-4107-a260-e11e3ccb5126",
   "metadata": {},
   "outputs": [
    {
     "name": "stdout",
     "output_type": "stream",
     "text": [
      "El indice no existe\n"
     ]
    }
   ],
   "source": [
    "#TODO - Escribe aquí tu codígo "
   ]
  },
  {
   "cell_type": "markdown",
   "id": "717b6fb4-9ec6-437c-8525-493e762a38f3",
   "metadata": {},
   "source": [
    "**Escribe el codigo que permita crear un indice llamado \"example\" con un shard y una replica y que tenga un esquema con un campo title de tipo keyword y un campo description de tipo text. Comprueba que el indice esta bien creado. El codigo debe poderse ejecutar varias veces sin fallar.**"
   ]
  },
  {
   "cell_type": "code",
   "execution_count": 22,
   "id": "f5b8b500-93c4-4acb-b88c-24cee75a6c0d",
   "metadata": {},
   "outputs": [],
   "source": [
    "#TODO - Escribe aquí tu codígo \n",
    "# Si necesitas ayuda revisa la documentación https://www.elastic.co/guide/en/elasticsearch/reference/7.10/indices-create-index.html\n"
   ]
  },
  {
   "cell_type": "markdown",
   "id": "3872e051-49a8-4caa-86f0-b1d895f0fa92",
   "metadata": {},
   "source": [
    "## Ejercicio 3. Trabajando con documentos.\n",
    "En este apartado vamos a ver las operaciones básicas con documentos: creación, recuperación y borrado."
   ]
  },
  {
   "cell_type": "markdown",
   "id": "5a50ce7a-67b5-4fea-b5d9-d020df5e3fdb",
   "metadata": {},
   "source": [
    "Aunque cuando estemos en produción siempre debemo crear el indice de manera explicita, ElaticSearch permite que insertemos documentos en un índice sin haberlo creado antes. El esque se inferirá de los datos introducidos."
   ]
  },
  {
   "cell_type": "code",
   "execution_count": 28,
   "id": "03ea742a-75c5-43b4-acbd-4ede0097ad92",
   "metadata": {},
   "outputs": [
    {
     "data": {
      "application/json": {
       "_id": "harry",
       "_index": "hp",
       "_primary_term": 1,
       "_seq_no": 0,
       "_shards": {
        "failed": 0,
        "successful": 1,
        "total": 2
       },
       "_type": "_doc",
       "_version": 1,
       "result": "created"
      },
      "text/plain": [
       "<IPython.core.display.JSON object>"
      ]
     },
     "execution_count": 28,
     "metadata": {
      "application/json": {
       "expanded": false,
       "root": "root"
      }
     },
     "output_type": "execute_result"
    }
   ],
   "source": [
    "request_body={\n",
    "    \"name\":\"Harry Potter\",\n",
    "    \"birthday\":\"1980-07-31\"\n",
    "}\n",
    "JSON(es.index(index=\"hp\", id=\"harry\", body=request_body))"
   ]
  },
  {
   "cell_type": "markdown",
   "id": "fc1a1c79-efd8-459f-82d4-4c42fab10d07",
   "metadata": {},
   "source": [
    "Ahora vamos a comprobar el mapping type del indice que hemos creado."
   ]
  },
  {
   "cell_type": "code",
   "execution_count": 29,
   "id": "90214d22-7c24-45bb-bdf4-1ca21991de02",
   "metadata": {},
   "outputs": [
    {
     "data": {
      "application/json": {
       "hp": {
        "mappings": {
         "properties": {
          "birthday": {
           "type": "date"
          },
          "name": {
           "fields": {
            "keyword": {
             "ignore_above": 256,
             "type": "keyword"
            }
           },
           "type": "text"
          }
         }
        }
       }
      },
      "text/plain": [
       "<IPython.core.display.JSON object>"
      ]
     },
     "execution_count": 29,
     "metadata": {
      "application/json": {
       "expanded": false,
       "root": "root"
      }
     },
     "output_type": "execute_result"
    }
   ],
   "source": [
    "JSON(es.indices.get_mapping(index=\"hp\"))"
   ]
  },
  {
   "cell_type": "markdown",
   "id": "25436c85-6c1a-404e-9bff-26c7aae3692f",
   "metadata": {},
   "source": [
    "Como podeis comprobar la inferencia ha detectado el tipo de los dos campos.\n",
    "\n",
    "Ahora añadamos al resto de la pandilla."
   ]
  },
  {
   "cell_type": "code",
   "execution_count": 30,
   "id": "a55c9abf-45ea-4207-8d02-bb532585b09e",
   "metadata": {},
   "outputs": [
    {
     "data": {
      "application/json": {
       "_id": "fred",
       "_index": "hp",
       "_primary_term": 1,
       "_seq_no": 5,
       "_shards": {
        "failed": 0,
        "successful": 1,
        "total": 2
       },
       "_type": "_doc",
       "_version": 1,
       "result": "created"
      },
      "text/plain": [
       "<IPython.core.display.JSON object>"
      ]
     },
     "execution_count": 30,
     "metadata": {
      "application/json": {
       "expanded": false,
       "root": "root"
      }
     },
     "output_type": "execute_result"
    }
   ],
   "source": [
    "request_body={\n",
    "    \"name\":\"Hermione Granger\",\n",
    "    \"birthday\":\"1979-09-19\"\n",
    "}\n",
    "JSON(es.index(index=\"hp\",id=\"hermione\", body=request_body))\n",
    "request_body={\n",
    "    \"name\":\"Ron Weasley\",\n",
    "    \"birthday\":\"1980-03-01\"\n",
    "}\n",
    "JSON(es.index(index=\"hp\",id=\"ron\", body=request_body))\n",
    "request_body={\n",
    "    \"name\":\"Ginny Weasley\",\n",
    "    \"birthday\":\"1981-08-11\"\n",
    "}\n",
    "JSON(es.index(index=\"hp\",id=\"ginny\",body=request_body))\n",
    "request_body={\n",
    "    \"name\":\"George Weasley\",\n",
    "    \"birthday\":\"1978-04-01\"\n",
    "}\n",
    "JSON(es.index(index=\"hp\",id=\"george\", body=request_body))\n",
    "request_body={\n",
    "    \"name\":\"Fred Weasley\",\n",
    "    \"birthday\":\"1978-04-01\"\n",
    "}\n",
    "JSON(es.index(index=\"hp\", id=\"fred\",body=request_body))"
   ]
  },
  {
   "cell_type": "markdown",
   "id": "2724a95f-c084-4421-acac-a188b35a8c49",
   "metadata": {},
   "source": [
    "Ahora vamos a recuperar a la pandilla."
   ]
  },
  {
   "cell_type": "code",
   "execution_count": 33,
   "id": "6307d591-d2e5-4b05-9560-a14605a531a9",
   "metadata": {},
   "outputs": [
    {
     "data": {
      "application/json": {
       "_shards": {
        "failed": 0,
        "skipped": 0,
        "successful": 1,
        "total": 1
       },
       "hits": {
        "hits": [
         {
          "_id": "harry",
          "_index": "hp",
          "_score": 1,
          "_source": {
           "birthday": "1980-07-31",
           "name": "Harry Potter"
          },
          "_type": "_doc"
         },
         {
          "_id": "hermione",
          "_index": "hp",
          "_score": 1,
          "_source": {
           "birthday": "1979-09-19",
           "name": "Hermione Granger"
          },
          "_type": "_doc"
         },
         {
          "_id": "ron",
          "_index": "hp",
          "_score": 1,
          "_source": {
           "birthday": "1980-03-01",
           "name": "Ron Weasley"
          },
          "_type": "_doc"
         },
         {
          "_id": "ginny",
          "_index": "hp",
          "_score": 1,
          "_source": {
           "birthday": "1981-08-11",
           "name": "Ginny Weasley"
          },
          "_type": "_doc"
         },
         {
          "_id": "george",
          "_index": "hp",
          "_score": 1,
          "_source": {
           "birthday": "1978-04-01",
           "name": "George Weasley"
          },
          "_type": "_doc"
         },
         {
          "_id": "fred",
          "_index": "hp",
          "_score": 1,
          "_source": {
           "birthday": "1978-04-01",
           "name": "Fred Weasley"
          },
          "_type": "_doc"
         }
        ],
        "max_score": 1,
        "total": {
         "relation": "eq",
         "value": 6
        }
       },
       "timed_out": false,
       "took": 3
      },
      "text/plain": [
       "<IPython.core.display.JSON object>"
      ]
     },
     "execution_count": 33,
     "metadata": {
      "application/json": {
       "expanded": false,
       "root": "root"
      }
     },
     "output_type": "execute_result"
    }
   ],
   "source": [
    "JSON(es.search(index=\"hp\"))"
   ]
  },
  {
   "cell_type": "markdown",
   "id": "d87c9bee-bc70-44c6-8439-e2bc2da741be",
   "metadata": {},
   "source": [
    "Lamentablemente Fred ya no es parte de la pandilla, por lo que vamos a eliminarlo de la base de datos. Para ello buscamos su ID, en este caso el `5` y ejecutamos el siguiente comando."
   ]
  },
  {
   "cell_type": "code",
   "execution_count": 34,
   "id": "4f85648d-7baf-44ba-a172-056737009bde",
   "metadata": {},
   "outputs": [
    {
     "data": {
      "application/json": {
       "_id": "fred",
       "_index": "hp",
       "_primary_term": 1,
       "_seq_no": 6,
       "_shards": {
        "failed": 0,
        "successful": 1,
        "total": 2
       },
       "_type": "_doc",
       "_version": 2,
       "result": "deleted"
      },
      "text/plain": [
       "<IPython.core.display.JSON object>"
      ]
     },
     "execution_count": 34,
     "metadata": {
      "application/json": {
       "expanded": false,
       "root": "root"
      }
     },
     "output_type": "execute_result"
    }
   ],
   "source": [
    "JSON(es.delete(index=\"hp\",id=\"fred\"))"
   ]
  },
  {
   "cell_type": "markdown",
   "id": "26a3fe38-169c-4e71-8d9f-abcdb7b37e69",
   "metadata": {},
   "source": [
    "Ahora borramos el indice."
   ]
  },
  {
   "cell_type": "code",
   "execution_count": 35,
   "id": "3f24d420-6229-404f-92b9-d15ff52cfc8f",
   "metadata": {},
   "outputs": [
    {
     "data": {
      "application/json": {
       "acknowledged": true
      },
      "text/plain": [
       "<IPython.core.display.JSON object>"
      ]
     },
     "execution_count": 35,
     "metadata": {
      "application/json": {
       "expanded": false,
       "root": "root"
      }
     },
     "output_type": "execute_result"
    }
   ],
   "source": [
    "JSON(es.indices.delete(index=\"hp\",ignore=[400,404]))"
   ]
  },
  {
   "cell_type": "markdown",
   "id": "d2bb98cc-9572-4d65-86c8-1cc79ddd53ac",
   "metadata": {},
   "source": [
    "## Práctica\n",
    "En esta sección vamos a repasar los comandos que hemos esta ejecutando en este ejercicio. Para ello vamos a desarrollar piezas de codigo que cumplan las indicaciones.\n",
    "\n",
    "Lo primero que vamos a hacer es descargarnos el fichero csv con el que vamos a trabajar:\n"
   ]
  },
  {
   "cell_type": "code",
   "execution_count": 9,
   "id": "83fce0b4-054f-4df7-a618-5a1558a1538a",
   "metadata": {},
   "outputs": [
    {
     "name": "stdout",
     "output_type": "stream",
     "text": [
      "--2024-01-30 14:13:20--  https://gist.githubusercontent.com/aagea/8bbeef2112c969d70c41fa6f3882dadb/raw/25e5adc78b381ccc8f662dd5ee845a285395a13e/quotes.csv\n",
      "Resolving gist.githubusercontent.com (gist.githubusercontent.com)... 185.199.110.133, 185.199.111.133, 185.199.109.133, ...\n",
      "Connecting to gist.githubusercontent.com (gist.githubusercontent.com)|185.199.110.133|:443... connected.\n",
      "HTTP request sent, awaiting response... 200 OK\n",
      "Length: 55360 (54K) [text/plain]\n",
      "Saving to: ‘quotes.csv’\n",
      "\n",
      "quotes.csv          100%[===================>]  54.06K  --.-KB/s    in 0.001s  \n",
      "\n",
      "2024-01-30 14:13:21 (84.9 MB/s) - ‘quotes.csv’ saved [55360/55360]\n",
      "\n"
     ]
    }
   ],
   "source": [
    "!wget https://gist.githubusercontent.com/aagea/8bbeef2112c969d70c41fa6f3882dadb/raw/25e5adc78b381ccc8f662dd5ee845a285395a13e/quotes.csv"
   ]
  },
  {
   "cell_type": "markdown",
   "id": "0e7b3677-d303-4dce-a99d-02ad0f2d69e4",
   "metadata": {},
   "source": [
    "Nuestro objetivo es indexar el contenido de es CSV en elasticsearch teniendo en cuenta lo siguiente:\n",
    "- Los documento deben contener tres campos: quote, author y category.\n",
    "- El campo category debe ser un array con los tres campos.\n",
    "- Se debera generar un autonumerico que sera el id para cada uno de los documentos.\n",
    "\n",
    "**Indexa todos los documento y haz la queries necesarias para demostrar que las operaciones funcionan correctamente**"
   ]
  },
  {
   "cell_type": "code",
   "execution_count": 9,
   "id": "4316850f-5dc7-46cf-b726-0f8c21756b3e",
   "metadata": {},
   "outputs": [],
   "source": [
    "#TODO - Escribe aquí tu codígo"
   ]
  }
 ],
 "metadata": {
  "kernelspec": {
   "display_name": "Python 3 (ipykernel)",
   "language": "python",
   "name": "python3"
  },
  "language_info": {
   "codemirror_mode": {
    "name": "ipython",
    "version": 3
   },
   "file_extension": ".py",
   "mimetype": "text/x-python",
   "name": "python",
   "nbconvert_exporter": "python",
   "pygments_lexer": "ipython3",
   "version": "3.10.6"
  }
 },
 "nbformat": 4,
 "nbformat_minor": 5
}
