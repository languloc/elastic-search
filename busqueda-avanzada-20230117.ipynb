{
 "cells": [
  {
   "cell_type": "markdown",
   "id": "6fca1959-4a59-4aaf-8126-f551705048f1",
   "metadata": {},
   "source": [
    "# Búsqueda avanzada"
   ]
  },
  {
   "cell_type": "markdown",
   "id": "1f829e06-4c85-41d1-9efc-9d9102bbe08d",
   "metadata": {
    "tags": []
   },
   "source": [
    "En esta práctica vamos a trabajar con las búsquedas textuales, para ello vamos a tener que trabajar tanto con el comando search como con los mapping types. El objetivo es poder crear cualquier buscador documental."
   ]
  },
  {
   "cell_type": "markdown",
   "id": "8cfd8434-e01b-494a-9fd1-849206d4ad32",
   "metadata": {
    "tags": []
   },
   "source": [
    "## Introducción"
   ]
  },
  {
   "cell_type": "markdown",
   "id": "4716872e-adeb-4a0b-8b73-2bdad7cc6b36",
   "metadata": {
    "tags": []
   },
   "source": [
    "Este primer bloque de código sirve para configurar el Notebook"
   ]
  },
  {
   "cell_type": "code",
   "execution_count": null,
   "id": "4151f887-2679-40d8-95c0-2f19534c896f",
   "metadata": {
    "tags": []
   },
   "outputs": [],
   "source": [
    "from IPython.display import JSON"
   ]
  },
  {
   "cell_type": "markdown",
   "id": "1999f3ea-4454-49aa-ae8a-0521b6b3486f",
   "metadata": {
    "tags": []
   },
   "source": [
    "Ahora vamos a descargar el cliente de ElasticSearch en Python."
   ]
  },
  {
   "cell_type": "code",
   "execution_count": null,
   "id": "100558cf-2fab-4d26-9faa-bbb3f74642cc",
   "metadata": {},
   "outputs": [],
   "source": [
    "pip install elasticsearch==7.10.1"
   ]
  },
  {
   "cell_type": "markdown",
   "id": "7ac743ca-6b86-456a-ab15-017368df61c3",
   "metadata": {
    "tags": []
   },
   "source": [
    "Por último, creamos la conexion con el servidor de Elastic Search desplegado"
   ]
  },
  {
   "cell_type": "code",
   "execution_count": null,
   "id": "48aee3d9-84d2-4522-99c3-cd067980f3fd",
   "metadata": {
    "tags": []
   },
   "outputs": [],
   "source": [
    "from elasticsearch import Elasticsearch\n",
    "es = Elasticsearch(\n",
    "    ['elasticsearch']\n",
    ")\n",
    "JSON(es.info())"
   ]
  },
  {
   "cell_type": "markdown",
   "id": "a0142cce-558a-4613-b707-bbd0f90f7b33",
   "metadata": {
    "tags": []
   },
   "source": [
    "## Importando los datos"
   ]
  },
  {
   "cell_type": "markdown",
   "id": "837441d4-5e9b-4ee7-9b1b-c4a92efcae20",
   "metadata": {},
   "source": [
    "En primer lugar vamos a descargar los datos usando el comando:"
   ]
  },
  {
   "cell_type": "code",
   "execution_count": null,
   "id": "1561f55a-db8b-4bdb-9ec9-9e6c335f7038",
   "metadata": {},
   "outputs": [],
   "source": [
    "!wget \"https://gist.githubusercontent.com/aagea/76a7e86ee77c95b09413d32d48f6af90/raw/0d107ae09c388f498bc7eefeebb79a27de0ec46c/imdb.json\""
   ]
  },
  {
   "cell_type": "code",
   "execution_count": null,
   "id": "b9fe7b2c-2714-46a7-a956-1f22efcf8741",
   "metadata": {
    "tags": []
   },
   "outputs": [],
   "source": [
    "es.indices.delete(index=\"imdb\",ignore=[400,404])\n",
    "!curl -H \"Content-Type: application/json\" -XPOST \"http://elasticsearch:9200/imdb/_bulk?pretty\" --data-binary \"@imdb.json\" >> /dev/null;"
   ]
  },
  {
   "cell_type": "markdown",
   "id": "2b79aa25-7714-48ee-a4f6-8673e039ca57",
   "metadata": {},
   "source": [
    "Ahora vamos a recuperar a los 10 primeros hoteles que hemos indexado."
   ]
  },
  {
   "cell_type": "code",
   "execution_count": null,
   "id": "9e25633e-f96a-4e27-85bc-816216bf18ae",
   "metadata": {
    "tags": []
   },
   "outputs": [],
   "source": [
    "JSON(es.search(index=\"imdb\"))"
   ]
  },
  {
   "cell_type": "markdown",
   "id": "f976d041-a4a5-40d9-9766-98e45a1b0d43",
   "metadata": {},
   "source": [
    "Por otro lado vamos a revisar el mapping type que se ha generado."
   ]
  },
  {
   "cell_type": "code",
   "execution_count": null,
   "id": "7640ce23-09b1-4b6c-997e-fff14f007d56",
   "metadata": {},
   "outputs": [],
   "source": [
    "JSON(es.indices.get_mapping(index=\"imdb\"))"
   ]
  },
  {
   "cell_type": "markdown",
   "id": "dee6179f-75e1-4dd9-9e69-3697898f7a34",
   "metadata": {},
   "source": [
    "## Ejercicio 1"
   ]
  },
  {
   "cell_type": "markdown",
   "id": "bc0fe854-2475-4c66-ba13-9a5c74a2f8a0",
   "metadata": {},
   "source": [
    "Revisa el mapping type auto generado y modificalo para que se adecue mejor a los datos almacenados. Guardalo en la variable mapping_type. Ver [Mapping data types](https://www.elastic.co/guide/en/elasticsearch/reference/7.17/mapping-types.html)"
   ]
  },
  {
   "cell_type": "code",
   "execution_count": null,
   "id": "1cbc38dd-dc87-45b4-ae9c-158da4033a30",
   "metadata": {},
   "outputs": [],
   "source": [
    "#Este código es de ejemplo\n",
    "mapping_type = {\n",
    "    'mappings': {\n",
    "        'properties': {\n",
    "            'actors': {\n",
    "                'type': 'text',\n",
    "                'fields': {\n",
    "                    'keyword': {\n",
    "                        'type': 'keyword', \n",
    "                        'ignore_above': 256\n",
    "                    }\n",
    "                }\n",
    "            },\n",
    "            'averageRating': {\n",
    "                'type': 'long'\n",
    "            },\n",
    "            'contentRating': {\n",
    "                'type': 'text',\n",
    "                'fields': {\n",
    "                    'keyword': {\n",
    "                        'type': 'keyword',\n",
    "                        'ignore_above': 256\n",
    "                    }\n",
    "                }\n",
    "            },\n",
    "            'duration': {\n",
    "                'type': 'text',\n",
    "                'fields': {\n",
    "                    'keyword': {\n",
    "                        'type': 'keyword', \n",
    "                        'ignore_above': 256\n",
    "                    }\n",
    "                }\n",
    "            },\n",
    "            'genres': {\n",
    "                'type': 'text',\n",
    "                'fields': {\n",
    "                    'keyword': {\n",
    "                        'type': 'keyword', \n",
    "                        'ignore_above': 256\n",
    "                    }\n",
    "                }\n",
    "            },\n",
    "            'imdbRating': {\n",
    "                'type': 'float'\n",
    "            },\n",
    "            'originalTitle': {\n",
    "                'type': 'text',\n",
    "                'fields': {\n",
    "                    'keyword': {\n",
    "                        'type': 'keyword', \n",
    "                        'ignore_above': 256\n",
    "                    }\n",
    "                }\n",
    "            },\n",
    "            'poster': {\n",
    "                'type': 'text',\n",
    "                'fields': {\n",
    "                    'keyword': {\n",
    "                        'type': 'keyword',\n",
    "                        'ignore_above': 256\n",
    "                    }\n",
    "                }\n",
    "            },\n",
    "            'posterurl': {\n",
    "                'type': 'text',\n",
    "                'fields': {\n",
    "                    'keyword': {\n",
    "                        'type': 'keyword', \n",
    "                        'ignore_above': 256\n",
    "                    }\n",
    "                }\n",
    "            },\n",
    "            'ratings': {\n",
    "                'type': 'long'\n",
    "            },\n",
    "            'releaseDate': {\n",
    "                'type': 'date'\n",
    "            },\n",
    "            'storyline': {\n",
    "                'type': 'text',\n",
    "                'fields': {\n",
    "                    'keyword': {\n",
    "                        'type': 'keyword', \n",
    "                        'ignore_above': 256\n",
    "                    }\n",
    "                }\n",
    "            },\n",
    "            'title': {\n",
    "                'type': 'text',\n",
    "                'fields': {\n",
    "                    'keyword': {\n",
    "                        'type': 'keyword', \n",
    "                        'ignore_above': 256\n",
    "                    }\n",
    "                }\n",
    "            },\n",
    "            'year': {\n",
    "                'type': 'text',\n",
    "                'fields': {\n",
    "                    'keyword': {\n",
    "                        'type': 'keyword', \n",
    "                        'ignore_above': 256\n",
    "                    }\n",
    "                }\n",
    "            }\n",
    "        }\n",
    "    }\n",
    "}\n",
    "es.indices.delete(index=\"imdb\",ignore=[400,404])\n",
    "es.indices.create(index=\"imdb\",body=mapping_type)"
   ]
  },
  {
   "cell_type": "markdown",
   "id": "e997c6d5-aa46-470f-9b8b-397fce31431c",
   "metadata": {},
   "source": [
    "Cuando hayas terminado ejecuta este comando."
   ]
  },
  {
   "cell_type": "code",
   "execution_count": null,
   "id": "e6fcf8cf-7fda-48c7-bc8e-d58407090614",
   "metadata": {
    "tags": []
   },
   "outputs": [],
   "source": [
    "!curl -H \"Content-Type: application/json\" -XPOST \"http://elasticsearch:9200/imdb/_bulk?pretty\" --data-binary \"@imdb.json\" "
   ]
  },
  {
   "cell_type": "markdown",
   "id": "011947e1-7d1f-4fb4-9f54-8523bb0a55a3",
   "metadata": {},
   "source": [
    "Revisa que el mapping type es correcto."
   ]
  },
  {
   "cell_type": "code",
   "execution_count": null,
   "id": "5031626e-ef4e-4c71-a7f4-7ce539bb6ecd",
   "metadata": {
    "tags": []
   },
   "outputs": [],
   "source": [
    "JSON(es.indices.get_mapping(index=\"imdb\"))"
   ]
  },
  {
   "cell_type": "markdown",
   "id": "82cbc09b-b142-402b-849f-89f860de9086",
   "metadata": {},
   "source": [
    "## Analyzers"
   ]
  },
  {
   "cell_type": "markdown",
   "id": "2dc5c4cc-6c20-4fa0-99ef-e2af74bd2b0a",
   "metadata": {},
   "source": [
    "Los [analyzers](https://www.elastic.co/guide/en/elasticsearch/reference/7.17/configure-text-analysis.html) permiten normalizar y estandarizar los datos introducidos por el usuario. Para probar los resultados de un analizador podemos utilizar la función `analyzer`."
   ]
  },
  {
   "cell_type": "code",
   "execution_count": null,
   "id": "89114989-3fe6-4bbb-8824-0db98fc02998",
   "metadata": {},
   "outputs": [],
   "source": [
    "body_request={\n",
    "  \"analyzer\": \"standard\",\n",
    "  \"text\": \"The 2 QUICK Brown-Foxes jumped over the lazy dog's bone.\"\n",
    "}\n",
    "JSON(es.indices.analyze(body=body_request))"
   ]
  },
  {
   "cell_type": "markdown",
   "id": "2555df78-de45-418b-bf2d-1d905ac0cead",
   "metadata": {},
   "source": [
    "Los [tokenizers](https://www.elastic.co/guide/en/elasticsearch/reference/7.17/analysis-tokenizers.html) son una entidad de más bajo nivel que recibe un stream de caracteres y devuelve un listado de tokens. En este caso el tokenicer keyword, lo que hace es crear un único toke con el testo completo. \n",
    "\n",
    "[Filter](https://www.elastic.co/guide/en/elasticsearch/reference/7.17/analysis-tokenfilters.html) permite modificar los tokens generados por el tokenizer. \n",
    "\n",
    "[Char filter](https://www.elastic.co/guide/en/elasticsearch/reference/7.17/analysis-charfilters.html) permite remplazar texto antes de de ser procesado por el tokenizer."
   ]
  },
  {
   "cell_type": "code",
   "execution_count": null,
   "id": "ac85988f-6c43-4c13-98f6-19f549169857",
   "metadata": {},
   "outputs": [],
   "source": [
    "\n",
    "body_request={\n",
    "  \"tokenizer\" : \"keyword\",\n",
    "  \"filter\" : [\"lowercase\"],\n",
    "  \"char_filter\" : [\"html_strip\"],\n",
    "  \"text\" : \"this is a <b>test</b>\"\n",
    "}\n",
    "JSON(es.indices.analyze(body=body_request))"
   ]
  },
  {
   "cell_type": "markdown",
   "id": "36925ef7-5efb-413b-addd-de18efd4e0a2",
   "metadata": {},
   "source": [
    "## Creando sinonimos"
   ]
  },
  {
   "cell_type": "markdown",
   "id": "e30180bf-b682-4d3e-b432-5411f686ed64",
   "metadata": {},
   "source": [
    "Vamos a ver como utilizando el `char_filter`podemos modificar el analizador para crear sinonimos. Vamos a sustituir los emoticonos `:)` por `_happy_face_` y `:(` por `_sad_face_`.\n"
   ]
  },
  {
   "cell_type": "markdown",
   "id": "f3d33baa-4034-4f07-90a8-bb8fd60ee784",
   "metadata": {},
   "source": [
    "Para ello vamos a utilizar el `char_filter`de tipo [mapping](https://www.elastic.co/guide/en/elasticsearch/reference/7.17/analysis-mapping-charfilter.html)."
   ]
  },
  {
   "cell_type": "code",
   "execution_count": null,
   "id": "f7abf812-e541-4365-b5ba-152c0b861914",
   "metadata": {},
   "outputs": [],
   "source": [
    "body_request={\n",
    "    \"tokenizer\" : \"keyword\",\n",
    "    \"char_filter\": { \n",
    "          \"type\": \"mapping\",\n",
    "          \"mappings\": [\n",
    "            \":) => _happy_face_\",\n",
    "            \":( => _sad_face_\"\n",
    "          ]        \n",
    "    },\n",
    "    \"text\" : \"Are you :(? No, I am :)\"\n",
    "}\n",
    "JSON(es.indices.analyze(body=body_request))"
   ]
  },
  {
   "cell_type": "markdown",
   "id": "07bf4873-5915-4451-a150-5e8e2eea72ce",
   "metadata": {},
   "source": [
    "Ahora podemos crear un indice que contega este char filter."
   ]
  },
  {
   "cell_type": "code",
   "execution_count": null,
   "id": "f258da50-01ca-4a8b-9c32-3ed5b6c5637e",
   "metadata": {},
   "outputs": [],
   "source": [
    "es.indices.delete(index=\"emojis\",ignore=[400,404])\n",
    "body_request= {\n",
    "    \"settings\": {\n",
    "        \"analysis\": {\n",
    "            \"analyzer\":{\n",
    "                \"emojis\":{\n",
    "                    \"tokenizer\": \"standard\",\n",
    "                    \"char_filter\":[\"emojis_filter\"]\n",
    "                }\n",
    "            },\n",
    "            \"char_filter\":\n",
    "                {\n",
    "                    \"emojis_filter\": {\n",
    "                        \"type\": \"mapping\",\n",
    "                        \"mappings\": [\n",
    "                            \":) => _happy_face_\",\n",
    "                            \":( => _sad_face_\"\n",
    "                        ]\n",
    "                    }\n",
    "                }\n",
    "            \n",
    "        }\n",
    "    },\n",
    "    \"mappings\": {\n",
    "        \"properties\": {\n",
    "            \"msg\": {\n",
    "                \"type\": \"text\",\n",
    "                \"analyzer\":\"emojis\",\n",
    "                \"fields\": {\n",
    "                    \"keyword\": {\n",
    "                        \"type\": \"keyword\",\n",
    "                        \"ignore_above\": 256\n",
    "                    }\n",
    "                }\n",
    "            }\n",
    "        }\n",
    "    }\n",
    "}\n",
    "\n",
    "es.indices.create(index=\"emojis\",body=body_request)"
   ]
  },
  {
   "cell_type": "markdown",
   "id": "77d7b772-234d-4188-9940-9fcaa20cf4bc",
   "metadata": {},
   "source": [
    "Comprobemos que el analizador funciona."
   ]
  },
  {
   "cell_type": "code",
   "execution_count": null,
   "id": "940b57b1-90fa-4632-80a7-a8a86493cb9c",
   "metadata": {},
   "outputs": [],
   "source": [
    "request_body={\n",
    "  \"analyzer\": \"emojis\",\n",
    "  \"text\" : \"He who controls the spice, controls the universe :), Dune\"\n",
    "}\n",
    "JSON(es.indices.analyze(index=\"emojis\",body=request_body))"
   ]
  },
  {
   "cell_type": "markdown",
   "id": "3361596c-bac6-4be5-bf47-276dea397b0d",
   "metadata": {},
   "source": [
    "Podemos indexar un documento y chequear que se puede buscar utilzando el sinonimo."
   ]
  },
  {
   "cell_type": "code",
   "execution_count": null,
   "id": "e16e5382-415e-496a-acb7-e686d5069fb7",
   "metadata": {},
   "outputs": [],
   "source": [
    "JSON(es.index(index=\"emojis\", body={\"msg\":\"Are you :(? No, I am :)\"}))\n",
    "request_body={\n",
    "  \"query\": {\n",
    "    \"match\": {\n",
    "      \"msg\": \"_happy_face_\"\n",
    "    }\n",
    "  }\n",
    "}\n",
    "JSON(es.search(index=\"emojis\", body=request_body))"
   ]
  },
  {
   "cell_type": "markdown",
   "id": "3161dce6-4290-41e3-a7a5-9b6bfdc92eb0",
   "metadata": {},
   "source": [
    "## Ejercicio 2"
   ]
  },
  {
   "cell_type": "markdown",
   "id": "46b23c37-04b3-4a06-8813-e9dc9a695d31",
   "metadata": {},
   "source": [
    "Modifica el mapping type de imdb y re-indexa el contenido para incluir los siguiente sinomos en el campo `actors`.\n",
    "\n",
    "* Brad Pitt -> William Bradley Pitt\n",
    "* Meat Loaf -> Michael Lee Aday\n",
    "* Tom Hanks -> Thomas Jeffrey Hanks\n",
    "* John Travolta -> John Joseph Travolta\n",
    "* Uma Thurman -> Uma Karuna Thurman"
   ]
  },
  {
   "cell_type": "code",
   "execution_count": null,
   "id": "7d0e3dcf-2d0c-4b35-ba7c-f6f8a48a6a19",
   "metadata": {},
   "outputs": [],
   "source": []
  },
  {
   "cell_type": "markdown",
   "id": "790f239d-df0d-42ac-b835-d0dcfa1fb393",
   "metadata": {},
   "source": [
    "## Otros tipos de consulta\n",
    "ElasticSearch nos da otros tipos de consulta que permiten mejora la experiencia del usuario."
   ]
  },
  {
   "cell_type": "markdown",
   "id": "9b4dc0fe-4a62-4538-ba35-7365b7a29f18",
   "metadata": {},
   "source": [
    "### More like this"
   ]
  },
  {
   "cell_type": "markdown",
   "id": "eb7ff620-c6c4-4ed3-9e71-5ba08641a379",
   "metadata": {},
   "source": [
    "El [more like this](https://www.elastic.co/guide/en/elasticsearch/reference/7.17/query-dsl-mlt-query.html) encuentra documentos que son parecido a otros documentos dados."
   ]
  },
  {
   "cell_type": "code",
   "execution_count": null,
   "id": "6d854121-a31f-4c41-9dab-06d6e5c8c5f8",
   "metadata": {},
   "outputs": [],
   "source": [
    "request_body={\n",
    "  \"query\": {  \n",
    "      \"more_like_this\" : {\n",
    "          \"fields\" : [\"originalTitle\"],\n",
    "          \"like\" : [\"The Godfather\"],\n",
    "          \"min_term_freq\" : 1,\n",
    "          \"min_doc_freq\": 1,  \n",
    "          \"minimum_should_match\": \"10%\"\n",
    "        }\n",
    "  }\n",
    "}\n",
    "JSON(es.search(index=\"imdb\", body=request_body))"
   ]
  },
  {
   "cell_type": "markdown",
   "id": "b1dea8bc-e9a9-4776-ac7f-ab24b940ac56",
   "metadata": {},
   "source": [
    "## Suggesters\n",
    "Los [suggesters](https://www.elastic.co/guide/en/elasticsearch/reference/7.17/search-suggesters.html) nos permiten dar recomendaciones de busqueda utilizando un texto. Es útil para resolver problemas antes de que se lance la búsqueda."
   ]
  },
  {
   "cell_type": "code",
   "execution_count": null,
   "id": "f528c38e-b519-4b18-b259-a0fe3f278d0a",
   "metadata": {},
   "outputs": [],
   "source": [
    "request_body={\n",
    "    \"suggest\": {\n",
    "        \"my-suggestion\" : {\n",
    "            \"text\" : \"godfater\",\n",
    "            \"term\" : {\n",
    "                \"field\" : \"originalTitle\"\n",
    "            }\n",
    "        }\n",
    "    }\n",
    "}\n",
    "JSON(es.search(index=\"imdb\", body=request_body))"
   ]
  },
  {
   "cell_type": "markdown",
   "id": "ad106aa2-e278-4875-96c1-9f90a72969b6",
   "metadata": {},
   "source": [
    "## Ejercicio 3"
   ]
  },
  {
   "cell_type": "markdown",
   "id": "0ee47ea6-e734-4d62-b58f-acd4f9d5914d",
   "metadata": {},
   "source": [
    "Calcula la media de ratings por cada actor"
   ]
  },
  {
   "cell_type": "code",
   "execution_count": null,
   "id": "83743af6-2d00-4300-9ba1-ce08a41990c7",
   "metadata": {},
   "outputs": [],
   "source": []
  },
  {
   "cell_type": "markdown",
   "id": "0636da34-e60f-4a31-8722-efb773e87e80",
   "metadata": {},
   "source": [
    "Cuantas peliculas se hicerion antes 1990, 1990-2000, 2000+"
   ]
  },
  {
   "cell_type": "code",
   "execution_count": null,
   "id": "1815fe47-f55b-46c8-be1a-c9dbe2c22291",
   "metadata": {},
   "outputs": [],
   "source": []
  },
  {
   "cell_type": "markdown",
   "id": "4b9157c6-eb7c-4197-9724-5d91fe2638ae",
   "metadata": {},
   "source": [
    "Encuentra todas las peliculas que empiece por \"Lord of the Ring\""
   ]
  },
  {
   "cell_type": "code",
   "execution_count": null,
   "id": "218d7b4d-1549-4286-b4f3-b83217ce55a1",
   "metadata": {},
   "outputs": [],
   "source": []
  }
 ],
 "metadata": {
  "kernelspec": {
   "display_name": "Python 3 (ipykernel)",
   "language": "python",
   "name": "python3"
  },
  "language_info": {
   "codemirror_mode": {
    "name": "ipython",
    "version": 3
   },
   "file_extension": ".py",
   "mimetype": "text/x-python",
   "name": "python",
   "nbconvert_exporter": "python",
   "pygments_lexer": "ipython3",
   "version": "3.10.6"
  }
 },
 "nbformat": 4,
 "nbformat_minor": 5
}
