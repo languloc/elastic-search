{
 "cells": [
  {
   "cell_type": "markdown",
   "id": "e7abc0ec-6fcf-403d-9ed8-6392db9c0cf8",
   "metadata": {},
   "source": [
    "# Búsqueda simple"
   ]
  },
  {
   "cell_type": "markdown",
   "id": "03b12df3-89fd-4f5d-9ca4-9791b1542fa1",
   "metadata": {
    "tags": []
   },
   "source": [
    "En esta prática vamos aprender a buscar elemento simple utilizando expresiones booleanas. Vamos a utilizar Elastic Search como si fuera una base de datos. Por último entenderemos como podemos utilizar elastic search como motor de agregación."
   ]
  },
  {
   "cell_type": "markdown",
   "id": "4255f526-2791-434e-b17c-f6ee99411009",
   "metadata": {
    "tags": []
   },
   "source": [
    "## Introducción"
   ]
  },
  {
   "cell_type": "markdown",
   "id": "9a68de0e-24bd-4ad2-b33e-de68034275cb",
   "metadata": {
    "tags": []
   },
   "source": [
    "Este primer bloque de código sirve para configurar el Notebook"
   ]
  },
  {
   "cell_type": "code",
   "execution_count": null,
   "id": "fcbb2d2c-a1d1-4c2e-9274-45ce6c1629a3",
   "metadata": {
    "tags": []
   },
   "outputs": [],
   "source": [
    "from IPython.display import JSON"
   ]
  },
  {
   "cell_type": "markdown",
   "id": "bb9f7154-eccf-486e-8991-ba0e5392e234",
   "metadata": {
    "tags": []
   },
   "source": [
    "Ahora vamos a descargar el cliente de ElasticSearch en Python."
   ]
  },
  {
   "cell_type": "code",
   "execution_count": null,
   "id": "39b4352e-50a2-4a3b-874d-c66074ddf1f0",
   "metadata": {},
   "outputs": [],
   "source": [
    "pip install elasticsearch==7.10.1"
   ]
  },
  {
   "cell_type": "markdown",
   "id": "7a5b96a6-7c36-45b1-89d6-017657ff3a29",
   "metadata": {
    "tags": []
   },
   "source": [
    "Por último, creamos la conexion con el servidor de Elastic Search desplegado"
   ]
  },
  {
   "cell_type": "code",
   "execution_count": null,
   "id": "8925c9f4-0d66-4cad-ac11-5f03e385f274",
   "metadata": {
    "tags": []
   },
   "outputs": [],
   "source": [
    "from elasticsearch import Elasticsearch\n",
    "es = Elasticsearch(\n",
    "    ['elasticsearch']\n",
    ")\n",
    "JSON(es.info())"
   ]
  },
  {
   "cell_type": "markdown",
   "id": "a0ac09b2-43af-44c9-b06b-8afe6cc9fe07",
   "metadata": {
    "tags": []
   },
   "source": [
    "## Importando los datos"
   ]
  },
  {
   "cell_type": "markdown",
   "id": "11e36cb2-b440-48fb-a08b-74d304066da5",
   "metadata": {},
   "source": [
    "En primer lugar vamos a descargar los datos usando el comando:"
   ]
  },
  {
   "cell_type": "code",
   "execution_count": null,
   "id": "0d1f6e4a-a8ff-49a3-88cd-fb0f4c17f32f",
   "metadata": {},
   "outputs": [],
   "source": [
    "!wget \"https://gist.githubusercontent.com/aagea/204e6803c0c9705b07aadceab9f7bd1e/raw/2dcdef641ab29411705f1d00e2fb1396c2101e93/hotels.json\""
   ]
  },
  {
   "cell_type": "code",
   "execution_count": null,
   "id": "eddc06a7-50bf-48a8-a5b7-551c750b96f0",
   "metadata": {
    "tags": []
   },
   "outputs": [],
   "source": [
    "es.indices.delete(index=\"hotels\",ignore=[400,404])\n",
    "!curl -H \"Content-Type: application/json\" -XPOST \"http://elasticsearch:9200/hotels/_bulk?pretty\" --data-binary \"@hotels.json\" >> /dev/null;"
   ]
  },
  {
   "cell_type": "markdown",
   "id": "07d99b8c-2ef2-4c27-a5dc-05a9fa718b0c",
   "metadata": {},
   "source": [
    "Ahora vamos a recuperar a los 10 primeros hoteles que hemos indexado."
   ]
  },
  {
   "cell_type": "code",
   "execution_count": null,
   "id": "5d39aa11-f75f-42d2-9746-0b3da6069abf",
   "metadata": {
    "tags": []
   },
   "outputs": [],
   "source": [
    "JSON(es.search(index=\"hotels\"))"
   ]
  },
  {
   "cell_type": "markdown",
   "id": "6d0d8087-10fc-4454-980a-6adfb5006cf1",
   "metadata": {},
   "source": [
    "Por otro lado vamos a revisar el mapping type que se ha generado."
   ]
  },
  {
   "cell_type": "code",
   "execution_count": null,
   "id": "9680c818-a5c3-4894-a741-cd1ff7cc1631",
   "metadata": {},
   "outputs": [],
   "source": [
    "JSON(es.indices.get_mapping(index=\"hotels\"))"
   ]
  },
  {
   "cell_type": "markdown",
   "id": "958cfbfe-4a94-489f-85c4-d05ff6afdb3e",
   "metadata": {},
   "source": [
    "## Busquedas simples"
   ]
  },
  {
   "cell_type": "markdown",
   "id": "d6681731-d12c-4306-aea7-27d5b7b35240",
   "metadata": {},
   "source": [
    "Ahora vamos buscar en los documentos que hemos almacenado, lo primero que vamos a hacer es buscar la palabra `Saerim`en los nombres de los hoteles."
   ]
  },
  {
   "cell_type": "code",
   "execution_count": null,
   "id": "49ec23c5-2754-4918-ab1f-79a54924c045",
   "metadata": {},
   "outputs": [],
   "source": [
    "request_body={\n",
    "  \"query\": {\n",
    "    \"match\": {\n",
    "      \"name\": \"Saerim\"\n",
    "    }\n",
    "  }\n",
    "}\n",
    "JSON(es.search(index=\"hotels\", body=request_body))"
   ]
  },
  {
   "cell_type": "markdown",
   "id": "d523abe1-e689-47ce-b184-354c9e1b82b1",
   "metadata": {},
   "source": [
    "Como podeis ver el filtro que se usa es textual y no requiere que el nombre sea exactamente como el documento guardardo, para hacer esto debemos usar la busqueda term."
   ]
  },
  {
   "cell_type": "code",
   "execution_count": null,
   "id": "0bb5b499-316e-4f94-b85f-c6d7706967a4",
   "metadata": {},
   "outputs": [],
   "source": [
    "request_body={\n",
    "  \"query\": {\n",
    "    \"term\": {\n",
    "      \"name\": \"Saerim Hotel\"\n",
    "    }\n",
    "  }\n",
    "}\n",
    "JSON(es.search(index=\"hotels\", body=request_body))"
   ]
  },
  {
   "cell_type": "markdown",
   "id": "804367cd-5450-43a3-bb6b-2648b5d0a142",
   "metadata": {},
   "source": [
    "Sin embargo esta búsqueda no devuelve ningún resultado debido a que el elemento esta almacenado como tipo text. Sin embargo, en el mapping type se ha añadido un tipo keyword que almacena la misma información como una keyword. Por tanto si hacemos la busqueda llamando a este campo el sistema devuelve los resultados correctos."
   ]
  },
  {
   "cell_type": "code",
   "execution_count": null,
   "id": "ed16d272-b4dc-4ef2-8ec5-a2f0e6c5dc93",
   "metadata": {},
   "outputs": [],
   "source": [
    "request_body={\n",
    "  \"query\": {\n",
    "    \"term\": {\n",
    "      \"name.keyword\": \"Saerim Hotel\"\n",
    "    }\n",
    "  }\n",
    "}\n",
    "JSON(es.search(index=\"hotels\", body=request_body))"
   ]
  },
  {
   "cell_type": "markdown",
   "id": "c1a3570b-8b0c-4d19-bc22-a05065868dfb",
   "metadata": {},
   "source": [
    "## Term level queries"
   ]
  },
  {
   "cell_type": "markdown",
   "id": "844272d0-c88c-4934-963e-21892d0fbbc0",
   "metadata": {},
   "source": [
    "Las term leve queries son consultas de filtrado es decir no analizan el texto generado sino que devuelven los resultado utlizando los terminos exactos."
   ]
  },
  {
   "cell_type": "markdown",
   "id": "ea4eb04b-274a-4490-9133-00c3422ba849",
   "metadata": {},
   "source": [
    "### Term\n",
    "El campo debe contener el valor exacto de la query."
   ]
  },
  {
   "cell_type": "code",
   "execution_count": null,
   "id": "252ef252-06f2-4728-8ec7-1a17c5f33595",
   "metadata": {},
   "outputs": [],
   "source": [
    "request_body={\n",
    "  \"query\": {\n",
    "    \"term\": {\n",
    "      \"name.keyword\": {\n",
    "          \"value\":\"saerim Hotel\",\n",
    "          \"case_insensitive\":\"true\"\n",
    "      }\n",
    "    }\n",
    "  }\n",
    "}\n",
    "JSON(es.search(index=\"hotels\", body=request_body))"
   ]
  },
  {
   "cell_type": "markdown",
   "id": "c6592f72-97ba-46db-8d26-e61a571b38ca",
   "metadata": {},
   "source": [
    "### Range"
   ]
  },
  {
   "cell_type": "markdown",
   "id": "874bdbdd-6657-488d-8446-2658af4a17b0",
   "metadata": {},
   "source": [
    "Devuelve los documentos dentro de un rango."
   ]
  },
  {
   "cell_type": "code",
   "execution_count": null,
   "id": "60fd416d-0cdd-4757-aec6-d519cf0d8c2f",
   "metadata": {},
   "outputs": [],
   "source": [
    "request_body={\n",
    "  \"query\": {\n",
    "    \"range\": {\n",
    "      \"stars\": {\n",
    "          \"lte\":2\n",
    "      }\n",
    "    }\n",
    "  }\n",
    "}\n",
    "JSON(es.search(index=\"hotels\", body=request_body))"
   ]
  },
  {
   "cell_type": "markdown",
   "id": "2407b44a-115e-46f6-8517-0c5ec6ea2f2a",
   "metadata": {},
   "source": [
    "### Prefix\n",
    "Devuelve todos los documentos que empiezan por una consulta concreta."
   ]
  },
  {
   "cell_type": "code",
   "execution_count": null,
   "id": "ed358a39-d269-49f9-b237-9226af84325f",
   "metadata": {},
   "outputs": [],
   "source": [
    "request_body={\n",
    "  \"query\": {\n",
    "    \"prefix\": {\n",
    "      \"name.keyword\": {\n",
    "          \"value\":\"sae\",\n",
    "          \"case_insensitive\":\"true\"\n",
    "      }\n",
    "    }\n",
    "  }\n",
    "}\n",
    "JSON(es.search(index=\"hotels\", body=request_body))"
   ]
  },
  {
   "cell_type": "markdown",
   "id": "b269ea4a-c7e9-4a7c-bc66-a7839098c7cf",
   "metadata": {},
   "source": [
    "## Fuzzy\n",
    "Permite devolver documentos que tiene valores similares a la consulta dada, se utiliza la distancia de Levenshtein para saber si el termino es próximo."
   ]
  },
  {
   "cell_type": "code",
   "execution_count": null,
   "id": "68bb7601-e503-42c4-abf0-1638904fd4de",
   "metadata": {},
   "outputs": [],
   "source": [
    "request_body={\n",
    "  \"query\": {\n",
    "    \"fuzzy\": {\n",
    "      \"name.keyword\": {\n",
    "          \"value\":\"Sarim Hotel\",\n",
    "      }\n",
    "    }\n",
    "  }\n",
    "}\n",
    "JSON(es.search(index=\"hotels\", body=request_body))"
   ]
  },
  {
   "cell_type": "markdown",
   "id": "1aa145ea-47bc-4dc8-a6bc-42abb58996c2",
   "metadata": {},
   "source": [
    "## Ejercicio 1 "
   ]
  },
  {
   "cell_type": "markdown",
   "id": "76851073-1033-477b-a314-e6b07c9b9b38",
   "metadata": {},
   "source": [
    "Busca los hoteles que tengan entre 3 o cuatro estrellas."
   ]
  },
  {
   "cell_type": "code",
   "execution_count": null,
   "id": "71efd2ca-66f7-4459-8ba5-5c017f4385e6",
   "metadata": {},
   "outputs": [],
   "source": []
  },
  {
   "cell_type": "markdown",
   "id": "4cbac8d1-b945-42c8-a59e-ce4baf41facd",
   "metadata": {},
   "source": [
    "Busca los hoteles que tenga más de cuatro cientas habitaciónes."
   ]
  },
  {
   "cell_type": "code",
   "execution_count": null,
   "id": "70dda583-221d-4f61-beac-c622786d2502",
   "metadata": {},
   "outputs": [],
   "source": []
  },
  {
   "cell_type": "markdown",
   "id": "07575080-f11a-4f0e-9f2c-19b551090da9",
   "metadata": {},
   "source": [
    "Encuentra el hotel Ding Seoul Hotel... creo que se llamaba así..."
   ]
  },
  {
   "cell_type": "code",
   "execution_count": null,
   "id": "5200d548-3646-40fc-9a57-5e8fb53615d3",
   "metadata": {},
   "outputs": [],
   "source": []
  },
  {
   "cell_type": "markdown",
   "id": "7817a86d-620b-43bc-8af0-08236794fdaa",
   "metadata": {},
   "source": [
    "Encuentra todos los hoteles que no tengan internet."
   ]
  },
  {
   "cell_type": "code",
   "execution_count": null,
   "id": "0a57a88c-b038-46cd-ba64-1c5375657e68",
   "metadata": {},
   "outputs": [],
   "source": []
  },
  {
   "cell_type": "markdown",
   "id": "73c1f938-ac2c-4e1d-b569-ff9c1eb40747",
   "metadata": {},
   "source": [
    "## Consultas compuestas"
   ]
  },
  {
   "cell_type": "markdown",
   "id": "2094370b-6a00-4f0f-99da-30e3541b9415",
   "metadata": {},
   "source": [
    "Para componer queries la forma sencilla es utilizar la boolean query que permite definir  utilizando cuatro estructuras que queremos encontrar:\n",
    "\n",
    "* La estructura **must** indica que los documentos deber hacer matchin con los filtros indicados en la query.\n",
    "* La estructura **should** indica filtros que son opcionales y que aumetan la puntuacion de los resultados.\n",
    "* La estructura **mustnot** elimina todos los resultados que cumplan las condiciones indicadas. No afecta al scoring.\n",
    "* La escructura **filter** devuelve todos los resultados que cumplan las condiciones indicadas. No afecta al scoring.\n",
    "\n",
    "Los boolean query se pueden anidar si requieren consultas aun más complejas."
   ]
  },
  {
   "cell_type": "code",
   "execution_count": null,
   "id": "3ce8cbd6-8a4d-43da-b131-2712897edc08",
   "metadata": {},
   "outputs": [],
   "source": [
    "request_body={\n",
    "  \"query\": {\n",
    "    \"bool\": {\n",
    "      \"must\": {\n",
    "          \"range\": {\n",
    "              \"rooms\":{\n",
    "                  \"gte\":\"300\"\n",
    "              }\n",
    "          }\n",
    "      },\n",
    "      \"should\": [\n",
    "          {\n",
    "            \"range\": {\n",
    "              \"price\":{\n",
    "                \"lte\":\"250\"\n",
    "              }\n",
    "            }\n",
    "          },\n",
    "          {\n",
    "            \"range\": {\n",
    "              \"stars\":{\n",
    "                  \"gte\":\"5\"\n",
    "              }\n",
    "            }\n",
    "          }\n",
    "      ],\n",
    "      \"filter\": {\n",
    "          \"range\": {\n",
    "              \"stars\":{\n",
    "                  \"gte\":\"3\"\n",
    "              }\n",
    "          }\n",
    "      }\n",
    "    }\n",
    "  }\n",
    "}\n",
    "JSON(es.search(index=\"hotels\", body=request_body))"
   ]
  },
  {
   "cell_type": "markdown",
   "id": "11b91e3e-9c44-4eca-a02f-1c3ca3ad045b",
   "metadata": {},
   "source": [
    "Con la opcion `\"minimum_should_match\" : 1`podemos obligar a que se cumpla al menos una condición."
   ]
  },
  {
   "cell_type": "code",
   "execution_count": null,
   "id": "b22e8f84-e83b-447d-af04-c6d6fcc4aa06",
   "metadata": {},
   "outputs": [],
   "source": [
    "request_body={\n",
    "  \"query\": {\n",
    "    \"bool\": {\n",
    "      \"must\": {\n",
    "          \"range\": {\n",
    "              \"rooms\":{\n",
    "                  \"gte\":\"300\"\n",
    "              }\n",
    "          }\n",
    "      },\n",
    "      \"should\": [\n",
    "          {\n",
    "            \"range\": {\n",
    "              \"price\":{\n",
    "                \"lte\":\"250\"\n",
    "              }\n",
    "            }\n",
    "          },\n",
    "          {\n",
    "            \"range\": {\n",
    "              \"stars\":{\n",
    "                  \"gte\":\"5\"\n",
    "              }\n",
    "            }\n",
    "          }\n",
    "      ],\n",
    "      \"filter\": {\n",
    "          \"range\": {\n",
    "              \"stars\":{\n",
    "                  \"gte\":\"3\"\n",
    "              }\n",
    "          }\n",
    "      },\n",
    "      \"minimum_should_match\" : 1\n",
    "    }\n",
    "  }\n",
    "}\n",
    "JSON(es.search(index=\"hotels\", body=request_body))"
   ]
  },
  {
   "cell_type": "markdown",
   "id": "0f2a8b22-3fed-4ac4-891a-fe5daf688f9a",
   "metadata": {},
   "source": [
    "## Ejercicio 2"
   ]
  },
  {
   "cell_type": "markdown",
   "id": "cdbdd877-526e-4a6d-9232-9f0935165f7f",
   "metadata": {},
   "source": [
    "Busca hoteles que tengan menos de 3 estrellas y que valgan menos de 100 o tengan menos de habitaciones."
   ]
  },
  {
   "cell_type": "code",
   "execution_count": null,
   "id": "7910364b-f696-4b8f-8b58-3541a89f28d7",
   "metadata": {},
   "outputs": [],
   "source": []
  },
  {
   "cell_type": "markdown",
   "id": "a7de6a0d-3022-44a5-aabd-bc9e258af82d",
   "metadata": {},
   "source": [
    "Entre los hoteles de que tengan internet, busca los que tenga menos 150 habitaciones. Estaría genial que tuviera cafetería (`Coffee shop`)."
   ]
  },
  {
   "cell_type": "code",
   "execution_count": null,
   "id": "b10be2a3-41c0-4757-847c-c4447c9f4709",
   "metadata": {},
   "outputs": [],
   "source": []
  },
  {
   "cell_type": "markdown",
   "id": "80289193-3745-4b2c-915c-93ade70125ee",
   "metadata": {},
   "source": [
    "Busca todos los hoteles que su nombre empieza por `Hotel`pero no tienen internet."
   ]
  },
  {
   "cell_type": "code",
   "execution_count": null,
   "id": "234fa5d3-58f4-4242-b70d-f1c94aa767cc",
   "metadata": {},
   "outputs": [],
   "source": []
  },
  {
   "cell_type": "markdown",
   "id": "288ee8f1-6f36-4296-bf38-d3b00ab77a69",
   "metadata": {},
   "source": [
    "## Aggregations"
   ]
  },
  {
   "cell_type": "markdown",
   "id": "fad18b9d-f12a-4246-a287-cc41de4f0d20",
   "metadata": {},
   "source": [
    "Las agregaciones nos permite calcular metricas de los documentos selecionados, de esta forma podemos conocer más detalles de nuestro dataset."
   ]
  },
  {
   "cell_type": "markdown",
   "id": "95b69e3b-bef3-4c1c-ac8a-9544cb985fde",
   "metadata": {},
   "source": [
    "Un agregación básica nos permitirá conocer el precio de medio de los hoteles de nuestro dataset."
   ]
  },
  {
   "cell_type": "code",
   "execution_count": null,
   "id": "7f6a4fb5-ab34-4c69-908c-df9d59bd359d",
   "metadata": {},
   "outputs": [],
   "source": [
    "request_body={\n",
    "  \"aggs\": {\"avg_price\" : { \"avg\" : { \"field\" : \"price\" } }}\n",
    "}\n",
    "JSON(es.search(index=\"hotels\", body=request_body))"
   ]
  },
  {
   "cell_type": "markdown",
   "id": "c9180fe9-a3a6-46b6-9424-ef83b46a3286",
   "metadata": {},
   "source": [
    "Podemos hacer agregaciones de elementos filtrados, por ejemplo solo los hoteles de cinco estrellas."
   ]
  },
  {
   "cell_type": "code",
   "execution_count": null,
   "id": "4fbd41c1-e804-4810-819a-fe8dafc32523",
   "metadata": {},
   "outputs": [],
   "source": [
    "request_body={\n",
    "  \"aggs\": {\"avg_price\" : { \"avg\" : { \"field\" : \"price\" } }},\n",
    "  \"query\": {\"range\": {\"stars\": {\"gte\":\"5\"}}}\n",
    "}\n",
    "JSON(es.search(index=\"hotels\", body=request_body))"
   ]
  },
  {
   "cell_type": "markdown",
   "id": "baa592d9-ca1d-450f-9a4c-ea18145608df",
   "metadata": {},
   "source": [
    "Tambien se pueden extraer estadisticas de un campo concreto."
   ]
  },
  {
   "cell_type": "code",
   "execution_count": null,
   "id": "c0d94c64-0dc7-4d0e-a11b-ca029c76ec26",
   "metadata": {},
   "outputs": [],
   "source": [
    "request_body={\n",
    "  \"aggs\": {\"stats_rooms\" : { \"stats\" : { \"field\" : \"rooms\" } }}\n",
    "}\n",
    "JSON(es.search(index=\"hotels\", body=request_body))"
   ]
  },
  {
   "cell_type": "markdown",
   "id": "120cf9d4-e8a0-4c61-84b5-83d8e039b19b",
   "metadata": {},
   "source": [
    "Aunque una funcionalidad aún más interesantes es la capacida de crear buckets."
   ]
  },
  {
   "cell_type": "code",
   "execution_count": null,
   "id": "c37956a6-e256-43ed-8b50-6b954c446cef",
   "metadata": {},
   "outputs": [],
   "source": [
    "\n",
    "request_body={\n",
    "  \"aggs\" : {\n",
    "    \"hotels\" : {\n",
    "      \"filters\" : {\n",
    "        \"filters\" : {\n",
    "          \"spas\" :   { \"match\" : { \"service\" : \"spa\"   }},\n",
    "          \"weddings\" : { \"match\" : { \"service\" : \"wedding\" }}\n",
    "        }\n",
    "      }\n",
    "    }\n",
    "  }\n",
    "}\n",
    "JSON(es.search(index=\"hotels\", body=request_body))"
   ]
  },
  {
   "cell_type": "markdown",
   "id": "d771fa68-71e4-414f-aa16-1fe7a4be9650",
   "metadata": {},
   "source": [
    "A la vez se puede realizar agregaciones de cada uno de los buckets creados."
   ]
  },
  {
   "cell_type": "code",
   "execution_count": null,
   "id": "2088c6a3-a34f-4c26-9d8a-301b3e1eb1fe",
   "metadata": {},
   "outputs": [],
   "source": [
    "request_body={\n",
    "  \"aggs\" : {\n",
    "    \"hotels\" : {\n",
    "      \"filters\" : {\n",
    "        \"filters\" : {\n",
    "          \"spas\" :   { \"match\" : { \"service\" : \"spa\"   }},\n",
    "          \"weddings\" : { \"match\" : { \"service\" : \"wedding\" }}\n",
    "        }\n",
    "      },\n",
    "      \"aggs\": {\n",
    "          \"avg_price\":{\"avg\":{\"field\":\"price\"}}\n",
    "      }\n",
    "    }\n",
    "    \n",
    "  }\n",
    "}\n",
    "JSON(es.search(index=\"hotels\", body=request_body))"
   ]
  },
  {
   "cell_type": "markdown",
   "id": "76daa533-bc8d-4b29-81a1-1f82cdad9284",
   "metadata": {},
   "source": [
    "## Ejercicio 3"
   ]
  },
  {
   "cell_type": "markdown",
   "id": "e7249ce1-07cc-49c9-af8d-eab957423579",
   "metadata": {},
   "source": [
    "Calcula el numero habitaciones media que tiene los hoteles de los siguientes rangos: <150, entre 150 y 250, entre 250 y 350, y mayore de 350. Ver [documetación de range](https://www.elastic.co/guide/en/elasticsearch/reference/7.17/search-aggregations-bucket-range-aggregation.html) "
   ]
  },
  {
   "cell_type": "code",
   "execution_count": null,
   "id": "895e20a5-5101-408d-a6e7-036b8ae2e086",
   "metadata": {},
   "outputs": [],
   "source": []
  },
  {
   "cell_type": "markdown",
   "id": "253932ca-7306-46e4-96c0-f32370a28a74",
   "metadata": {},
   "source": [
    "Calcula el menor precio de un hotel con un servicio concreto. Ver [documentación de term](https://www.elastic.co/guide/en/elasticsearch/reference/7.17/search-aggregations-bucket-terms-aggregation.html)"
   ]
  },
  {
   "cell_type": "code",
   "execution_count": null,
   "id": "d1f09e74-101e-48cf-a3f4-40495428f7a1",
   "metadata": {},
   "outputs": [],
   "source": []
  }
 ],
 "metadata": {
  "kernelspec": {
   "display_name": "Python 3 (ipykernel)",
   "language": "python",
   "name": "python3"
  },
  "language_info": {
   "codemirror_mode": {
    "name": "ipython",
    "version": 3
   },
   "file_extension": ".py",
   "mimetype": "text/x-python",
   "name": "python",
   "nbconvert_exporter": "python",
   "pygments_lexer": "ipython3",
   "version": "3.10.6"
  }
 },
 "nbformat": 4,
 "nbformat_minor": 5
}
