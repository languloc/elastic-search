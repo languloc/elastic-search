{
 "cells": [
  {
   "cell_type": "markdown",
   "id": "05a99842-367f-42b9-beec-ad7d8bf9d235",
   "metadata": {},
   "source": [
    "# Práctica final"
   ]
  },
  {
   "cell_type": "markdown",
   "id": "60ff855f-d81a-4ea4-8d72-6af353879e08",
   "metadata": {
    "tags": []
   },
   "source": [
    "En esta prática vamos responder una serie de preguntas utilizando busqueda de elastic search sobre un set de datos. \n",
    "\n",
    "Para entregar la practica, una vez resueltos los ejerciciós se debera exportar el notebook a PDF y subirse a la plataforma."
   ]
  },
  {
   "cell_type": "markdown",
   "id": "aecb7ee0-6438-4f15-abdf-dfb85aab000d",
   "metadata": {
    "tags": []
   },
   "source": [
    "## Introducción"
   ]
  },
  {
   "cell_type": "markdown",
   "id": "cbfcedfe-0d4a-4e36-a784-c4eb66bfc6dc",
   "metadata": {
    "tags": []
   },
   "source": [
    "Este primer bloque de código sirve para configurar el Notebook"
   ]
  },
  {
   "cell_type": "code",
   "execution_count": 1,
   "id": "eac8b480-3763-495d-b943-7051ad2f7bde",
   "metadata": {
    "tags": []
   },
   "outputs": [],
   "source": [
    "from IPython.display import JSON"
   ]
  },
  {
   "cell_type": "markdown",
   "id": "d6dd9cbb-8e3b-4fb1-93b3-3f1d550c9556",
   "metadata": {
    "tags": []
   },
   "source": [
    "Ahora vamos a descargar el cliente de ElasticSearch en Python."
   ]
  },
  {
   "cell_type": "code",
   "execution_count": 2,
   "id": "8b28fd26-2b63-41f6-b64e-85e878acc24d",
   "metadata": {},
   "outputs": [
    {
     "name": "stdout",
     "output_type": "stream",
     "text": [
      "Collecting elasticsearch==7.10.1\n",
      "  Downloading elasticsearch-7.10.1-py2.py3-none-any.whl (322 kB)\n",
      "\u001b[2K     \u001b[90m━━━━━━━━━━━━━━━━━━━━━━━━━━━━━━━━━━━━━━━\u001b[0m \u001b[32m322.1/322.1 kB\u001b[0m \u001b[31m3.3 MB/s\u001b[0m eta \u001b[36m0:00:00\u001b[0m00:01\u001b[0m\n",
      "\u001b[?25hRequirement already satisfied: urllib3<2,>=1.21.1 in /opt/conda/lib/python3.10/site-packages (from elasticsearch==7.10.1) (1.26.11)\n",
      "Requirement already satisfied: certifi in /opt/conda/lib/python3.10/site-packages (from elasticsearch==7.10.1) (2022.9.24)\n",
      "Installing collected packages: elasticsearch\n",
      "Successfully installed elasticsearch-7.10.1\n",
      "Note: you may need to restart the kernel to use updated packages.\n"
     ]
    }
   ],
   "source": [
    "pip install elasticsearch==7.10.1"
   ]
  },
  {
   "cell_type": "markdown",
   "id": "a6552d39-098d-4cb7-81ad-892fcf01c1ce",
   "metadata": {
    "tags": []
   },
   "source": [
    "Por último, creamos la conexion con el servidor de Elastic Search desplegado"
   ]
  },
  {
   "cell_type": "code",
   "execution_count": 3,
   "id": "0757eaba-a529-414f-8a60-490047b2ad7d",
   "metadata": {
    "tags": []
   },
   "outputs": [
    {
     "data": {
      "application/json": {
       "cluster_name": "docker-cluster",
       "cluster_uuid": "7ynLFY1-Q0a3K1s5V8-MkA",
       "name": "elasticsearch-5dc87dcd57-q2vvv",
       "tagline": "You Know, for Search",
       "version": {
        "build_date": "2021-01-13T00:42:12.435326Z",
        "build_flavor": "oss",
        "build_hash": "747e1cc71def077253878a59143c1f785afa92b9",
        "build_snapshot": false,
        "build_type": "docker",
        "lucene_version": "8.7.0",
        "minimum_index_compatibility_version": "6.0.0-beta1",
        "minimum_wire_compatibility_version": "6.8.0",
        "number": "7.10.2"
       }
      },
      "text/plain": [
       "<IPython.core.display.JSON object>"
      ]
     },
     "execution_count": 3,
     "metadata": {
      "application/json": {
       "expanded": false,
       "root": "root"
      }
     },
     "output_type": "execute_result"
    }
   ],
   "source": [
    "from elasticsearch import Elasticsearch\n",
    "es = Elasticsearch(\n",
    "    ['elasticsearch']\n",
    ")\n",
    "JSON(es.info())"
   ]
  },
  {
   "cell_type": "markdown",
   "id": "c4c017fd-7d2a-48d2-bb34-6846528df9b9",
   "metadata": {
    "tags": []
   },
   "source": [
    "## Importando los datos"
   ]
  },
  {
   "cell_type": "markdown",
   "id": "8b627f01-c945-40fb-b847-045f4ef8a67a",
   "metadata": {
    "tags": []
   },
   "source": [
    "En primer lugar vamos a descargar los datos usando el comando:"
   ]
  },
  {
   "cell_type": "code",
   "execution_count": 4,
   "id": "22388895-7fff-4a43-b83b-e14f8770481e",
   "metadata": {
    "tags": []
   },
   "outputs": [
    {
     "name": "stdout",
     "output_type": "stream",
     "text": [
      "--2024-02-18 17:01:34--  https://gist.githubusercontent.com/aagea/82d2eec2ecdcc49798a5707263ce5bb3/raw/cc42b39d7a84ff170c8dc532d90ab458017b6eed/Employees50K.json\n",
      "Resolving gist.githubusercontent.com (gist.githubusercontent.com)... 185.199.108.133, 185.199.110.133, 185.199.109.133, ...\n",
      "Connecting to gist.githubusercontent.com (gist.githubusercontent.com)|185.199.108.133|:443... connected.\n",
      "HTTP request sent, awaiting response... 200 OK\n",
      "Length: 17054496 (16M) [text/plain]\n",
      "Saving to: ‘Employees50K.json’\n",
      "\n",
      "Employees50K.json   100%[===================>]  16.26M  96.8MB/s    in 0.2s    \n",
      "\n",
      "2024-02-18 17:01:35 (96.8 MB/s) - ‘Employees50K.json’ saved [17054496/17054496]\n",
      "\n"
     ]
    }
   ],
   "source": [
    "!wget \"https://gist.githubusercontent.com/aagea/82d2eec2ecdcc49798a5707263ce5bb3/raw/cc42b39d7a84ff170c8dc532d90ab458017b6eed/Employees50K.json\""
   ]
  },
  {
   "cell_type": "markdown",
   "id": "13ad1616-6102-478c-898c-a06f86cf19df",
   "metadata": {},
   "source": [
    "## Preguntas"
   ]
  },
  {
   "cell_type": "markdown",
   "id": "83bab96e-0ce8-45e7-b753-03e22ed30ad6",
   "metadata": {
    "tags": []
   },
   "source": [
    "**(1 punto)** Carga los datos en elastic. "
   ]
  },
  {
   "cell_type": "code",
   "execution_count": 5,
   "id": "22222c49-391f-4382-b77d-83dd285f926a",
   "metadata": {},
   "outputs": [
    {
     "name": "stdout",
     "output_type": "stream",
     "text": [
      "  % Total    % Received % Xferd  Average Speed   Time    Time     Time  Current\n",
      "                                 Dload  Upload   Total   Spent    Left  Speed\n",
      "100 34.5M  100 18.2M  100 16.2M   604k   538k  0:00:30  0:00:30 --:--:-- 5229k:16  0:00:16 --:--:--     0\n"
     ]
    }
   ],
   "source": [
    "es.indices.delete(index=\"companydatabase\", ignore=[400, 404])\n",
    "!curl -H \"Content-Type: application/json\" -XPOST \"http://elasticsearch:9200/companydatabase/_bulk?pretty\" --data-binary \"@Employees50K.json\" >> /dev/null"
   ]
  },
  {
   "cell_type": "markdown",
   "id": "121540ee-99f8-44bb-8634-1a688076f4cd",
   "metadata": {
    "tags": []
   },
   "source": [
    "**(2 punto)** Recupera las mujeres mayores de 40 años."
   ]
  },
  {
   "cell_type": "code",
   "execution_count": 35,
   "id": "b03ad0b7-6750-44cc-909c-9f53697eb588",
   "metadata": {},
   "outputs": [
    {
     "data": {
      "application/json": {
       "_shards": {
        "failed": 0,
        "skipped": 0,
        "successful": 1,
        "total": 1
       },
       "hits": {
        "hits": [
         {
          "_id": "YMKYvY0BHh53PTDpIKwf",
          "_index": "companydatabase",
          "_score": 1.6964726,
          "_source": {
           "Address": "8417 Blue Spring St. Port Orange, FL 32127",
           "Age": 62,
           "DateOfJoining": "1993-01-11",
           "Designation": "CEO",
           "FirstName": "ELVA",
           "Gender": "Female",
           "Interests": [
            "Body Building",
            "Illusion",
            "Protesting",
            "Taxidermy",
            "TV watching",
            "Cartooning",
            "Skateboarding"
           ],
           "LastName": "RECHKEMMER",
           "MaritalStatus": "Unmarried",
           "Salary": "154000"
          },
          "_type": "_doc"
         },
         {
          "_id": "YcKYvY0BHh53PTDpIKwf",
          "_index": "companydatabase",
          "_score": 1.6964726,
          "_source": {
           "Address": "16 Manor Station Court Huntsville, AL 35803",
           "Age": 45,
           "DateOfJoining": "2013-02-07",
           "Designation": "President",
           "FirstName": "JENNEFER",
           "Gender": "Female",
           "Interests": [
            "String Figures",
            "Working on cars",
            "Button Collecting",
            "Surf Fishing"
           ],
           "LastName": "WENIG",
           "MaritalStatus": "Unmarried",
           "Salary": "110000"
          },
          "_type": "_doc"
         },
         {
          "_id": "YsKYvY0BHh53PTDpIKwf",
          "_index": "companydatabase",
          "_score": 1.6964726,
          "_source": {
           "Address": "287 SE. Schoolhouse Street Clifton, NJ 07011",
           "Age": 63,
           "DateOfJoining": "2010-01-14",
           "Designation": "President",
           "FirstName": "LAUREN",
           "Gender": "Female",
           "Interests": [
            "Saltwater Aquariums"
           ],
           "LastName": "RIDENS",
           "MaritalStatus": "Married",
           "Salary": "123000"
          },
          "_type": "_doc"
         },
         {
          "_id": "Y8KYvY0BHh53PTDpIKwf",
          "_index": "companydatabase",
          "_score": 1.6964726,
          "_source": {
           "Address": "871 Leatherwood Street North Canton, OH 44720",
           "Age": 65,
           "DateOfJoining": "1970-01-05",
           "Designation": "President",
           "FirstName": "VANIA",
           "Gender": "Female",
           "Interests": [
            "Golf",
            "Weather Watcher",
            "Fencing",
            "Leathercrafting",
            "Tutoring Children",
            "Blogging",
            "Building Dollhouses"
           ],
           "LastName": "HAMMING",
           "MaritalStatus": "Unmarried",
           "Salary": "127000"
          },
          "_type": "_doc"
         },
         {
          "_id": "ZcKYvY0BHh53PTDpIKwf",
          "_index": "companydatabase",
          "_score": 1.6964726,
          "_source": {
           "Address": "974 Boston Ave. Huntington, NY 11743",
           "Age": 47,
           "DateOfJoining": "1991-09-16",
           "Designation": "Vice President",
           "FirstName": "CIERRA",
           "Gender": "Female",
           "Interests": [
            "Diecast Collectibles",
            "Tool Collecting",
            "Stamp Collecting"
           ],
           "LastName": "BRIGGERMAN",
           "MaritalStatus": "Unmarried",
           "Salary": "106000"
          },
          "_type": "_doc"
         },
         {
          "_id": "aMKYvY0BHh53PTDpIKwf",
          "_index": "companydatabase",
          "_score": 1.6964726,
          "_source": {
           "Address": "17 Grove St. Lake Jackson, TX 77566",
           "Age": 56,
           "DateOfJoining": "2016-02-03",
           "Designation": "Vice President",
           "FirstName": "VENICE",
           "Gender": "Female",
           "Interests": [
            "Floral Arrangements",
            "Making Model Cars",
            "Slot Car Racing"
           ],
           "LastName": "LEDAY",
           "MaritalStatus": "Unmarried",
           "Salary": "105000"
          },
          "_type": "_doc"
         },
         {
          "_id": "acKYvY0BHh53PTDpIKwf",
          "_index": "companydatabase",
          "_score": 1.6964726,
          "_source": {
           "Address": "35 Brookside Drive South Richmond Hill, NY 11419",
           "Age": 60,
           "DateOfJoining": "2009-01-07",
           "Designation": "Vice President",
           "FirstName": "SANDIE",
           "Gender": "Female",
           "Interests": [
            "Aircraft Spotting",
            "Pottery",
            "Airsofting",
            "Belly Dancing",
            "Kayaking"
           ],
           "LastName": "CAVALIERI",
           "MaritalStatus": "Unmarried",
           "Salary": "108000"
          },
          "_type": "_doc"
         },
         {
          "_id": "asKYvY0BHh53PTDpIKwf",
          "_index": "companydatabase",
          "_score": 1.6964726,
          "_source": {
           "Address": "8991 Ridge St. Buffalo, NY 14215",
           "Age": 59,
           "DateOfJoining": "2009-01-02",
           "Designation": "Vice President",
           "FirstName": "MAGDALEN",
           "Gender": "Female",
           "Interests": [
            "Wingsuit Flying",
            "Felting",
            "Educational Courses",
            "Tesla Coils",
            "Gun Collecting",
            "Ceramics"
           ],
           "LastName": "STUMP",
           "MaritalStatus": "Unmarried",
           "Salary": "100000"
          },
          "_type": "_doc"
         },
         {
          "_id": "b8KYvY0BHh53PTDpIKwf",
          "_index": "companydatabase",
          "_score": 1.6964726,
          "_source": {
           "Address": "8546 Lakewood Drive Aliquippa, PA 15001",
           "Age": 46,
           "DateOfJoining": "2011-03-28",
           "Designation": "Vice President",
           "FirstName": "VALERIA",
           "Gender": "Female",
           "Interests": [
            "Electronics",
            "Astronomy",
            "Spelunkering",
            "Sky Diving",
            "Tesla Coils",
            "Rafting",
            "Base Jumping"
           ],
           "LastName": "MCQUILLEN",
           "MaritalStatus": "Unmarried",
           "Salary": "109000"
          },
          "_type": "_doc"
         },
         {
          "_id": "cMKYvY0BHh53PTDpIKwf",
          "_index": "companydatabase",
          "_score": 1.6964726,
          "_source": {
           "Address": "7865 Snake Hill Ave. Stevens Point, WI 54481",
           "Age": 54,
           "DateOfJoining": "2004-09-03",
           "Designation": "Vice President",
           "FirstName": "CHARLOTTE",
           "Gender": "Female",
           "Interests": [
            "TV watching",
            "Working on cars",
            "Beach/Sun tanning",
            "Amateur Radio",
            "Four Wheeling",
            "Base Jumping",
            "Car Racing"
           ],
           "LastName": "KOGEL",
           "MaritalStatus": "Married",
           "Salary": "110000"
          },
          "_type": "_doc"
         }
        ],
        "max_score": 1.6964726,
        "total": {
         "relation": "eq",
         "value": 762
        }
       },
       "timed_out": false,
       "took": 9
      },
      "text/plain": [
       "<IPython.core.display.JSON object>"
      ]
     },
     "execution_count": 35,
     "metadata": {
      "application/json": {
       "expanded": false,
       "root": "root"
      }
     },
     "output_type": "execute_result"
    }
   ],
   "source": [
    "request_body = {\n",
    "  \"query\": {\n",
    "    \"bool\": {\n",
    "      \"must\": [\n",
    "        { \"match\": { \"Gender\": \"Female\" } },\n",
    "        { \"range\": { \"Age\": { \"gt\": 40 } } }\n",
    "      ]\n",
    "    }\n",
    "  }\n",
    "}\n",
    "\n",
    "JSON(es.search(index=\"companydatabase\", body=request_body))"
   ]
  },
  {
   "cell_type": "markdown",
   "id": "f7cb5b15-8ff7-428e-ac1c-5fe59ea33c9b",
   "metadata": {
    "tags": []
   },
   "source": [
    "(2 punto) Recuper los hombres que su nombre empieza por \"Will\"."
   ]
  },
  {
   "cell_type": "code",
   "execution_count": 36,
   "id": "2f5e5c74-7cd6-48e9-ae33-dfa7f7f22e11",
   "metadata": {},
   "outputs": [
    {
     "data": {
      "application/json": {
       "companydatabase": {
        "mappings": {
         "properties": {
          "Address": {
           "fields": {
            "keyword": {
             "ignore_above": 256,
             "type": "keyword"
            }
           },
           "type": "text"
          },
          "Age": {
           "type": "long"
          },
          "DateOfJoining": {
           "type": "date"
          },
          "Designation": {
           "fields": {
            "keyword": {
             "ignore_above": 256,
             "type": "keyword"
            }
           },
           "type": "text"
          },
          "FirstName": {
           "fields": {
            "keyword": {
             "ignore_above": 256,
             "type": "keyword"
            }
           },
           "type": "text"
          },
          "Gender": {
           "fields": {
            "keyword": {
             "ignore_above": 256,
             "type": "keyword"
            }
           },
           "type": "text"
          },
          "Interests": {
           "fields": {
            "keyword": {
             "ignore_above": 256,
             "type": "keyword"
            }
           },
           "type": "text"
          },
          "LastName": {
           "fields": {
            "keyword": {
             "ignore_above": 256,
             "type": "keyword"
            }
           },
           "type": "text"
          },
          "MaritalStatus": {
           "fields": {
            "keyword": {
             "ignore_above": 256,
             "type": "keyword"
            }
           },
           "type": "text"
          },
          "Salary": {
           "type": "float"
          }
         }
        }
       }
      },
      "text/plain": [
       "<IPython.core.display.JSON object>"
      ]
     },
     "execution_count": 36,
     "metadata": {
      "application/json": {
       "expanded": false,
       "root": "root"
      }
     },
     "output_type": "execute_result"
    }
   ],
   "source": [
    "JSON(es.indices.get_mapping(index=\"companydatabase\"))"
   ]
  },
  {
   "cell_type": "code",
   "execution_count": 37,
   "id": "f32c575b-f9b9-41e7-92ad-340d4fbdaa62",
   "metadata": {},
   "outputs": [
    {
     "data": {
      "application/json": {
       "_shards": {
        "failed": 0,
        "skipped": 0,
        "successful": 1,
        "total": 1
       },
       "hits": {
        "hits": [
         {
          "_id": "qsKYvY0BHh53PTDpIKwf",
          "_index": "companydatabase",
          "_score": 1.6898327,
          "_source": {
           "Address": "302 St Paul St. East Brunswick, NJ 08816",
           "Age": 54,
           "DateOfJoining": "2010-04-05",
           "Designation": "Delivery Manager",
           "FirstName": "WILLIE",
           "Gender": "Male",
           "Interests": [
            "R/C Boats"
           ],
           "LastName": "CERON",
           "MaritalStatus": "Married",
           "Salary": "98000"
          },
          "_type": "_doc"
         },
         {
          "_id": "CsKYvY0BHh53PTDpIK0f",
          "_index": "companydatabase",
          "_score": 1.6898327,
          "_source": {
           "Address": "9 Ann Road South El Monte, CA 91733",
           "Age": 45,
           "DateOfJoining": "2008-04-02",
           "Designation": "Manager",
           "FirstName": "WILLARD",
           "Gender": "Male",
           "Interests": [
            "Brewing Beer",
            "Coin Collecting",
            "Bowling",
            "Tennis",
            "Piano",
            "Car Racing"
           ],
           "LastName": "JUSTE",
           "MaritalStatus": "Married",
           "Salary": "86000"
          },
          "_type": "_doc"
         },
         {
          "_id": "KcKYvY0BHh53PTDpIK0f",
          "_index": "companydatabase",
          "_score": 1.6898327,
          "_source": {
           "Address": "634 Galvin St. Marietta, GA 30008",
           "Age": 37,
           "DateOfJoining": "2004-02-23",
           "Designation": "Manager",
           "FirstName": "WILLIE",
           "Gender": "Male",
           "Interests": [
            "Ghost Hunting",
            "Football",
            "Backgammon"
           ],
           "LastName": "ASCHIM",
           "MaritalStatus": "Unmarried",
           "Salary": "85000"
          },
          "_type": "_doc"
         },
         {
          "_id": "1sKYvY0BHh53PTDpIK0f",
          "_index": "companydatabase",
          "_score": 1.6898327,
          "_source": {
           "Address": "67 West Union St. Mentor, OH 44060",
           "Age": 50,
           "DateOfJoining": "2010-01-15",
           "Designation": "Manager",
           "FirstName": "WILLIE",
           "Gender": "Male",
           "Interests": [
            "Pyrotechnics",
            "Base Jumping",
            "Playing team sports",
            "Rescuing Abused Or Abandoned Animals",
            "Shopping"
           ],
           "LastName": "SARSFIELD",
           "MaritalStatus": "Unmarried",
           "Salary": "80000"
          },
          "_type": "_doc"
         },
         {
          "_id": "7sKYvY0BHh53PTDpIK0g",
          "_index": "companydatabase",
          "_score": 1.6898327,
          "_source": {
           "Address": "719 NE. Ridge Rd. Fort Walton Beach, FL 32547",
           "Age": 55,
           "DateOfJoining": "2007-01-24",
           "Designation": "Manager",
           "FirstName": "WILLIAMS",
           "Gender": "Male",
           "Interests": [
            "Model Rockets",
            "Sky Diving",
            "Jump Roping",
            "Animals/pets/dogs",
            "Birding",
            "Kites",
            "Knitting"
           ],
           "LastName": "ASHER",
           "MaritalStatus": "Unmarried",
           "Salary": "87000"
          },
          "_type": "_doc"
         },
         {
          "_id": "M8KYvY0BHh53PTDpIK4g",
          "_index": "companydatabase",
          "_score": 1.6898327,
          "_source": {
           "Address": "425 St Paul Street Canyon Country, CA 91387",
           "Age": 52,
           "DateOfJoining": "2011-01-27",
           "Designation": "Manager",
           "FirstName": "WILLIS",
           "Gender": "Male",
           "Interests": [
            "Kites",
            "Origami",
            "Home Theater",
            "Bonsai Tree",
            "Floorball",
            "Arts",
            "Go Kart Racing"
           ],
           "LastName": "IANNELLI",
           "MaritalStatus": "Married",
           "Salary": "88000"
          },
          "_type": "_doc"
         },
         {
          "_id": "BMKYvY0BHh53PTDpILAh",
          "_index": "companydatabase",
          "_score": 1.6898327,
          "_source": {
           "Address": "25 Bellevue St. Sioux Falls, SD 57103",
           "Age": 47,
           "DateOfJoining": "2015-05-04",
           "Designation": "Manager",
           "FirstName": "WILL",
           "Gender": "Male",
           "Interests": [
            "Compose Music"
           ],
           "LastName": "HELMBRIGHT",
           "MaritalStatus": "Married",
           "Salary": "88000"
          },
          "_type": "_doc"
         },
         {
          "_id": "LsKYvY0BHh53PTDpILAh",
          "_index": "companydatabase",
          "_score": 1.6898327,
          "_source": {
           "Address": "950 East Theatre Road Santa Clara, CA 95050",
           "Age": 34,
           "DateOfJoining": "2006-12-01",
           "Designation": "Human Resource Manager",
           "FirstName": "WILLIE",
           "Gender": "Male",
           "Interests": [
            "Listening to music",
            "Tutoring Children",
            "World Record Breaking",
            "Baseball",
            "Cave Diving",
            "Coin Collecting",
            "Painting"
           ],
           "LastName": "DECANT",
           "MaritalStatus": "Married",
           "Salary": "78000"
          },
          "_type": "_doc"
         },
         {
          "_id": "PcKYvY0BHh53PTDpILAh",
          "_index": "companydatabase",
          "_score": 1.6898327,
          "_source": {
           "Address": "422 Wilson St. Santa Clara, CA 95050",
           "Age": 30,
           "DateOfJoining": "2006-02-13",
           "Designation": "Human Resource Manager",
           "FirstName": "WILLIS",
           "Gender": "Male",
           "Interests": [
            "Glowsticking",
            "Hunting"
           ],
           "LastName": "GOUTY",
           "MaritalStatus": "Married",
           "Salary": "72000"
          },
          "_type": "_doc"
         },
         {
          "_id": "GMKYvY0BHh53PTDpILEh",
          "_index": "companydatabase",
          "_score": 1.6898327,
          "_source": {
           "Address": "13 Livingston Street Easton, PA 18042",
           "Age": 37,
           "DateOfJoining": "2002-02-26",
           "Designation": "Human Resource Manager",
           "FirstName": "WILLIAMS",
           "Gender": "Male",
           "Interests": [
            "Jewelry Making"
           ],
           "LastName": "MASHIAH",
           "MaritalStatus": "Married",
           "Salary": "71000"
          },
          "_type": "_doc"
         }
        ],
        "max_score": 1.6898327,
        "total": {
         "relation": "eq",
         "value": 161
        }
       },
       "timed_out": false,
       "took": 10
      },
      "text/plain": [
       "<IPython.core.display.JSON object>"
      ]
     },
     "execution_count": 37,
     "metadata": {
      "application/json": {
       "expanded": false,
       "root": "root"
      }
     },
     "output_type": "execute_result"
    }
   ],
   "source": [
    "request_body={\n",
    "  \"query\": {\n",
    "      \"bool\":{\n",
    "          \"must\":[\n",
    "              {\"term\":{\"Gender.keyword\":\"Male\"}},\n",
    "              {\"prefix\":{\"FirstName.keyword\":{\n",
    "                \"value\":\"will\",\n",
    "                \"case_insensitive\":True}}}\n",
    "          ]\n",
    "    }\n",
    "  }\n",
    "}\n",
    "JSON(es.search(index=\"companydatabase\", body=request_body))"
   ]
  },
  {
   "cell_type": "markdown",
   "id": "a728efa2-41ee-42c6-bc56-53c2fe68ce8b",
   "metadata": {
    "tags": []
   },
   "source": [
    "**(2 punto)** Calcula brecha salarial entre hombres y mujeres."
   ]
  },
  {
   "cell_type": "code",
   "execution_count": 38,
   "id": "8a190f31-0584-4578-9917-ef09d6a843bc",
   "metadata": {},
   "outputs": [
    {
     "data": {
      "text/plain": [
       "{'companydatabase': {'mappings': {'properties': {'Address': {'type': 'text',\n",
       "     'fields': {'keyword': {'type': 'keyword', 'ignore_above': 256}}},\n",
       "    'Age': {'type': 'long'},\n",
       "    'DateOfJoining': {'type': 'date'},\n",
       "    'Designation': {'type': 'text',\n",
       "     'fields': {'keyword': {'type': 'keyword', 'ignore_above': 256}}},\n",
       "    'FirstName': {'type': 'text',\n",
       "     'fields': {'keyword': {'type': 'keyword', 'ignore_above': 256}}},\n",
       "    'Gender': {'type': 'text',\n",
       "     'fields': {'keyword': {'type': 'keyword', 'ignore_above': 256}}},\n",
       "    'Interests': {'type': 'text',\n",
       "     'fields': {'keyword': {'type': 'keyword', 'ignore_above': 256}}},\n",
       "    'LastName': {'type': 'text',\n",
       "     'fields': {'keyword': {'type': 'keyword', 'ignore_above': 256}}},\n",
       "    'MaritalStatus': {'type': 'text',\n",
       "     'fields': {'keyword': {'type': 'keyword', 'ignore_above': 256}}},\n",
       "    'Salary': {'type': 'float'}}}}}"
      ]
     },
     "execution_count": 38,
     "metadata": {},
     "output_type": "execute_result"
    }
   ],
   "source": [
    "es.indices.get_mapping(index=\"companydatabase\")"
   ]
  },
  {
   "cell_type": "code",
   "execution_count": 39,
   "id": "b6f3759b-ca08-4c44-af4d-739c6e3ff55d",
   "metadata": {},
   "outputs": [
    {
     "data": {
      "text/plain": [
       "{'acknowledged': True, 'shards_acknowledged': True, 'index': 'companydatabase'}"
      ]
     },
     "execution_count": 39,
     "metadata": {},
     "output_type": "execute_result"
    }
   ],
   "source": [
    "mapping_type= {\n",
    "  \"mappings\": {\n",
    "    \"properties\": {\n",
    "      \"Address\": {\n",
    "        \"type\": \"text\",\n",
    "        \"fields\": {\n",
    "          \"keyword\": {\n",
    "            \"type\": \"keyword\",\n",
    "            \"ignore_above\": 256}}\n",
    "      },\n",
    "      \"Age\": {\n",
    "        \"type\": \"long\"\n",
    "      },\n",
    "      \"Designation\": {\n",
    "        \"type\": \"text\",\n",
    "        \"fields\": {\n",
    "          \"keyword\": {\n",
    "            \"type\": \"keyword\",\n",
    "            \"ignore_above\": 256}}\n",
    "      },\n",
    "      \"FirstName\": {\n",
    "        \"type\": \"text\",\n",
    "        \"fields\": {\n",
    "          \"keyword\": {\n",
    "            \"type\": \"keyword\",\n",
    "            \"ignore_above\": 256}}\n",
    "      },\n",
    "        \"Gender\": {\n",
    "        \"type\": \"text\",\n",
    "        \"fields\": {\n",
    "          \"keyword\": {\n",
    "            \"type\": \"keyword\",\n",
    "            \"ignore_above\": 256}}\n",
    "      },\n",
    "      \"Interests\": {\n",
    "        \"type\": \"text\",\n",
    "        \"fields\": {\n",
    "          \"keyword\": {\n",
    "            \"type\": \"keyword\",\n",
    "            \"ignore_above\": 256 }}\n",
    "      },\n",
    "        \"LastName\": {\n",
    "        \"type\": \"text\",\n",
    "        \"fields\": {\n",
    "          \"keyword\": {\n",
    "            \"type\": \"keyword\",\n",
    "            \"ignore_above\": 256}}\n",
    "        },\n",
    "        \"MaritalStatus\": {\n",
    "        \"type\": \"text\",\n",
    "        \"fields\": {\n",
    "          \"keyword\": {\n",
    "            \"type\": \"keyword\",\n",
    "            \"ignore_above\": 256}}\n",
    "      },\n",
    "        \"Salary\": {\n",
    "        \"type\": \"float\"\n",
    "      }\n",
    "        \n",
    "    }\n",
    "  }\n",
    "}\n",
    "\n",
    "es.indices.delete(index=\"companydatabase\",ignore=[400,404])\n",
    "es.indices.create(index=\"companydatabase\",body=mapping_type)"
   ]
  },
  {
   "cell_type": "code",
   "execution_count": 40,
   "id": "5c789a64-8f36-4210-93a5-0056345f4521",
   "metadata": {},
   "outputs": [
    {
     "name": "stdout",
     "output_type": "stream",
     "text": [
      "  % Total    % Received % Xferd  Average Speed   Time    Time     Time  Current\n",
      "                                 Dload  Upload   Total   Spent    Left  Speed\n",
      "100 34.5M  100 18.2M  100 16.2M  1253k  1117k  0:00:14  0:00:14 --:--:-- 3984k:-- 5194k\n"
     ]
    }
   ],
   "source": [
    "!curl -H \"Content-Type: application/json\" -XPOST \"http://elasticsearch:9200/companydatabase/_bulk?pretty\" --data-binary \"@Employees50K.json\" >> /dev/null"
   ]
  },
  {
   "cell_type": "code",
   "execution_count": 41,
   "id": "d2e088ca-7118-49c7-bb86-1630653bebd0",
   "metadata": {},
   "outputs": [
    {
     "name": "stdout",
     "output_type": "stream",
     "text": [
      "La brecha salarial es:  126.27789588547603\n"
     ]
    }
   ],
   "source": [
    "request_body = {\n",
    "    \"aggs\": {\n",
    "        \"salaries_by_gender\": {\"terms\": {\"field\": \"Gender.keyword\"},\n",
    "            \"aggs\": { \"average_salary\": {\"avg\": {\"field\": \"Salary\"}}}\n",
    "        }\n",
    "    }\n",
    "}\n",
    "result=es.search(index=\"companydatabase\", body=request_body)\n",
    "male_avg_salary = result['aggregations']['salaries_by_gender']['buckets'][0]['average_salary']['value']\n",
    "female_avg_salary = result['aggregations']['salaries_by_gender']['buckets'][1]['average_salary']['value']\n",
    "brecha_salarial=male_avg_salary-female_avg_salary\n",
    "print(\"La brecha salarial es: \",brecha_salarial)"
   ]
  },
  {
   "cell_type": "markdown",
   "id": "2083f449-220f-4cad-a68b-6aadc861f3e4",
   "metadata": {
    "tags": []
   },
   "source": [
    "**(3 punto)** Calcula cuales son los intereses más comunes de los empleados."
   ]
  },
  {
   "cell_type": "code",
   "execution_count": 42,
   "id": "536aab5e-d301-474e-9a89-ba035beaeafc",
   "metadata": {},
   "outputs": [
    {
     "data": {
      "application/json": {
       "_shards": {
        "failed": 0,
        "skipped": 0,
        "successful": 1,
        "total": 1
       },
       "aggregations": {
        "common_interests": {
         "buckets": [
          {
           "doc_count": 722,
           "key": "Trekkie"
          },
          {
           "doc_count": 719,
           "key": "Walking"
          },
          {
           "doc_count": 715,
           "key": "Hunting"
          },
          {
           "doc_count": 708,
           "key": "Church/church activities"
          },
          {
           "doc_count": 705,
           "key": "Bicycling"
          },
          {
           "doc_count": 704,
           "key": "Spelunkering"
          },
          {
           "doc_count": 703,
           "key": "Self Defense"
          },
          {
           "doc_count": 702,
           "key": "Listening to music"
          },
          {
           "doc_count": 701,
           "key": "Saltwater Aquariums"
          },
          {
           "doc_count": 698,
           "key": "Keep A Journal"
          }
         ],
         "doc_count_error_upper_bound": 0,
         "sum_other_doc_count": 192561
        }
       },
       "hits": {
        "hits": [
         {
          "_id": "sMOnvY0BHh53PTDpbG8C",
          "_index": "companydatabase",
          "_score": 1,
          "_source": {
           "Address": "8417 Blue Spring St. Port Orange, FL 32127",
           "Age": 62,
           "DateOfJoining": "1993-01-11",
           "Designation": "CEO",
           "FirstName": "ELVA",
           "Gender": "Female",
           "Interests": [
            "Body Building",
            "Illusion",
            "Protesting",
            "Taxidermy",
            "TV watching",
            "Cartooning",
            "Skateboarding"
           ],
           "LastName": "RECHKEMMER",
           "MaritalStatus": "Unmarried",
           "Salary": "154000"
          },
          "_type": "_doc"
         },
         {
          "_id": "scOnvY0BHh53PTDpbG8C",
          "_index": "companydatabase",
          "_score": 1,
          "_source": {
           "Address": "16 Manor Station Court Huntsville, AL 35803",
           "Age": 45,
           "DateOfJoining": "2013-02-07",
           "Designation": "President",
           "FirstName": "JENNEFER",
           "Gender": "Female",
           "Interests": [
            "String Figures",
            "Working on cars",
            "Button Collecting",
            "Surf Fishing"
           ],
           "LastName": "WENIG",
           "MaritalStatus": "Unmarried",
           "Salary": "110000"
          },
          "_type": "_doc"
         },
         {
          "_id": "ssOnvY0BHh53PTDpbG8C",
          "_index": "companydatabase",
          "_score": 1,
          "_source": {
           "Address": "287 SE. Schoolhouse Street Clifton, NJ 07011",
           "Age": 63,
           "DateOfJoining": "2010-01-14",
           "Designation": "President",
           "FirstName": "LAUREN",
           "Gender": "Female",
           "Interests": [
            "Saltwater Aquariums"
           ],
           "LastName": "RIDENS",
           "MaritalStatus": "Married",
           "Salary": "123000"
          },
          "_type": "_doc"
         },
         {
          "_id": "s8OnvY0BHh53PTDpbG8C",
          "_index": "companydatabase",
          "_score": 1,
          "_source": {
           "Address": "871 Leatherwood Street North Canton, OH 44720",
           "Age": 65,
           "DateOfJoining": "1970-01-05",
           "Designation": "President",
           "FirstName": "VANIA",
           "Gender": "Female",
           "Interests": [
            "Golf",
            "Weather Watcher",
            "Fencing",
            "Leathercrafting",
            "Tutoring Children",
            "Blogging",
            "Building Dollhouses"
           ],
           "LastName": "HAMMING",
           "MaritalStatus": "Unmarried",
           "Salary": "127000"
          },
          "_type": "_doc"
         },
         {
          "_id": "tMOnvY0BHh53PTDpbG8C",
          "_index": "companydatabase",
          "_score": 1,
          "_source": {
           "Address": "20 Sage Dr. El Paso, TX 79930",
           "Age": 59,
           "DateOfJoining": "2008-01-14",
           "Designation": "Vice President",
           "FirstName": "GENARO",
           "Gender": "Male",
           "Interests": [
            "Collecting Antiques",
            "Hula Hooping",
            "Airbrushing"
           ],
           "LastName": "HARDNETT",
           "MaritalStatus": "Married",
           "Salary": "108000"
          },
          "_type": "_doc"
         },
         {
          "_id": "tcOnvY0BHh53PTDpbG8C",
          "_index": "companydatabase",
          "_score": 1,
          "_source": {
           "Address": "974 Boston Ave. Huntington, NY 11743",
           "Age": 47,
           "DateOfJoining": "1991-09-16",
           "Designation": "Vice President",
           "FirstName": "CIERRA",
           "Gender": "Female",
           "Interests": [
            "Diecast Collectibles",
            "Tool Collecting",
            "Stamp Collecting"
           ],
           "LastName": "BRIGGERMAN",
           "MaritalStatus": "Unmarried",
           "Salary": "106000"
          },
          "_type": "_doc"
         },
         {
          "_id": "tsOnvY0BHh53PTDpbG8C",
          "_index": "companydatabase",
          "_score": 1,
          "_source": {
           "Address": "937 Bohemia Ave. Port Washington, NY 11050",
           "Age": 58,
           "DateOfJoining": "1985-02-12",
           "Designation": "Vice President",
           "FirstName": "RUSS",
           "Gender": "Male",
           "Interests": [
            "Beatboxing",
            "Amateur Radio",
            "Survival",
            "Casino Gambling",
            "BMX",
            "Bicycling"
           ],
           "LastName": "LISHMAN",
           "MaritalStatus": "Married",
           "Salary": "109000"
          },
          "_type": "_doc"
         },
         {
          "_id": "t8OnvY0BHh53PTDpbG8C",
          "_index": "companydatabase",
          "_score": 1,
          "_source": {
           "Address": "952 West Oxford Rd. Enfield, CT 06082",
           "Age": 60,
           "DateOfJoining": "1994-09-12",
           "Designation": "Vice President",
           "FirstName": "JED",
           "Gender": "Male",
           "Interests": [
            "Papermache",
            "Making Model Cars",
            "Go Kart Racing",
            "Beachcombing",
            "Kayaking",
            "Sleeping",
            "Conworlding"
           ],
           "LastName": "CROUT",
           "MaritalStatus": "Married",
           "Salary": "108000"
          },
          "_type": "_doc"
         },
         {
          "_id": "uMOnvY0BHh53PTDpbG8C",
          "_index": "companydatabase",
          "_score": 1,
          "_source": {
           "Address": "17 Grove St. Lake Jackson, TX 77566",
           "Age": 56,
           "DateOfJoining": "2016-02-03",
           "Designation": "Vice President",
           "FirstName": "VENICE",
           "Gender": "Female",
           "Interests": [
            "Floral Arrangements",
            "Making Model Cars",
            "Slot Car Racing"
           ],
           "LastName": "LEDAY",
           "MaritalStatus": "Unmarried",
           "Salary": "105000"
          },
          "_type": "_doc"
         },
         {
          "_id": "ucOnvY0BHh53PTDpbG8C",
          "_index": "companydatabase",
          "_score": 1,
          "_source": {
           "Address": "35 Brookside Drive South Richmond Hill, NY 11419",
           "Age": 60,
           "DateOfJoining": "2009-01-07",
           "Designation": "Vice President",
           "FirstName": "SANDIE",
           "Gender": "Female",
           "Interests": [
            "Aircraft Spotting",
            "Pottery",
            "Airsofting",
            "Belly Dancing",
            "Kayaking"
           ],
           "LastName": "CAVALIERI",
           "MaritalStatus": "Unmarried",
           "Salary": "108000"
          },
          "_type": "_doc"
         }
        ],
        "max_score": 1,
        "total": {
         "relation": "gte",
         "value": 10000
        }
       },
       "timed_out": false,
       "took": 13
      },
      "text/plain": [
       "<IPython.core.display.JSON object>"
      ]
     },
     "execution_count": 42,
     "metadata": {
      "application/json": {
       "expanded": false,
       "root": "root"
      }
     },
     "output_type": "execute_result"
    }
   ],
   "source": [
    "request_body = {\n",
    "    \"aggs\": {\n",
    "        \"common_interests\": {\"terms\": {\"field\": \"Interests.keyword\"}}\n",
    "    }\n",
    "}\n",
    "JSON(es.search(index=\"companydatabase\", body=request_body))"
   ]
  }
 ],
 "metadata": {
  "kernelspec": {
   "display_name": "Python 3 (ipykernel)",
   "language": "python",
   "name": "python3"
  },
  "language_info": {
   "codemirror_mode": {
    "name": "ipython",
    "version": 3
   },
   "file_extension": ".py",
   "mimetype": "text/x-python",
   "name": "python",
   "nbconvert_exporter": "python",
   "pygments_lexer": "ipython3",
   "version": "3.11.8"
  }
 },
 "nbformat": 4,
 "nbformat_minor": 5
}
